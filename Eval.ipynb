{
 "cells": [
  {
   "cell_type": "code",
   "execution_count": 1,
   "id": "967ced67-36b6-4ef1-831c-d051e5675792",
   "metadata": {
    "tags": []
   },
   "outputs": [],
   "source": [
    "from Core.EvaluateManager import EvaluateManager\n",
    "from Config import Config\n",
    "\n",
    "import torch.backends.cudnn as cudnn\n",
    "\n",
    "# cudnn.benchmark = True # This will break reproducibility\n",
    "cudnn.deterministic = True # For reproducibility"
   ]
  },
  {
   "cell_type": "code",
   "execution_count": 2,
   "id": "51bf5fa1-df27-4611-a38c-59f3219b4558",
   "metadata": {
    "tags": []
   },
   "outputs": [
    {
     "name": "stdout",
     "output_type": "stream",
     "text": [
      "Initializing base model\n",
      "--------------------------------------------------\n"
     ]
    },
    {
     "data": {
      "application/vnd.jupyter.widget-view+json": {
       "model_id": "e46c7783aaa24e17bd9a937bfcfaba7c",
       "version_major": 2,
       "version_minor": 0
      },
      "text/plain": [
       "VBox(children=(FloatProgress(value=0.0, bar_style='success', description='Epoch 1/1', style=ProgressStyle(bar_…"
      ]
     },
     "metadata": {},
     "output_type": "display_data"
    },
    {
     "name": "stdout",
     "output_type": "stream",
     "text": [
      "--------------------------------------------------\n",
      "Time:2023-10-19 10:56:37 > Confusion Matrix:\n",
      "|        | Actual T | Actual F |\n",
      "| Pred T | 173      | 0        |\n",
      "| Pred F | 5        | 340      |\n",
      " > Total 518 samples\n",
      " > Confusion Matrix:\n",
      "|        | Actual T | Actual F |\n",
      "| Pred T | 1531     | 2        |\n",
      "| Pred F | 71       | 2797     |\n",
      " > Total 4401 samples\n",
      " > Vid Acc: 0.9903 | Seq Acc: 0.9834 | Loss: 0.1040\n"
     ]
    }
   ],
   "source": [
    "config = Config()\n",
    "config.basic.test_DS_name = 'CDF'\n",
    "config.apply()\n",
    "\n",
    "evalMan = EvaluateManager(config)\n",
    "ret = evalMan.evaluate('Checkpoints/CDF/checkpoint_25.pth')"
   ]
  },
  {
   "cell_type": "code",
   "execution_count": 3,
   "id": "3f838400-f725-4a13-af72-a27d302c316a",
   "metadata": {
    "tags": []
   },
   "outputs": [
    {
     "name": "stdout",
     "output_type": "stream",
     "text": [
      "Initializing base model\n",
      "--------------------------------------------------\n"
     ]
    },
    {
     "data": {
      "application/vnd.jupyter.widget-view+json": {
       "model_id": "ee66b3bce1fb4553b59899ebaf6abcb2",
       "version_major": 2,
       "version_minor": 0
      },
      "text/plain": [
       "VBox(children=(FloatProgress(value=0.0, bar_style='success', description='Epoch 1/1', style=ProgressStyle(bar_…"
      ]
     },
     "metadata": {},
     "output_type": "display_data"
    },
    {
     "name": "stdout",
     "output_type": "stream",
     "text": [
      "--------------------------------------------------\n",
      "Time:2023-10-19 10:58:29 > Confusion Matrix:\n",
      "|        | Actual T | Actual F |\n",
      "| Pred T | 355      | 80       |\n",
      "| Pred F | 41       | 330      |\n",
      " > Total 806 samples\n",
      " > Confusion Matrix:\n",
      "|        | Actual T | Actual F |\n",
      "| Pred T | 2828     | 1131     |\n",
      "| Pred F | 372      | 4089     |\n",
      " > Total 8420 samples\n",
      " > Vid Acc: 0.8499 | Seq Acc: 0.8215 | Loss: 0.7096\n"
     ]
    }
   ],
   "source": [
    "config = Config()\n",
    "config.basic.test_DS_name = 'WDF'\n",
    "config.apply()\n",
    "\n",
    "evalMan = EvaluateManager(config)\n",
    "ret = evalMan.evaluate('Checkpoints/WDF/checkpoint_25.pth')"
   ]
  }
 ],
 "metadata": {
  "kernelspec": {
   "display_name": "Python 3 (ipykernel)",
   "language": "python",
   "name": "python3"
  },
  "language_info": {
   "codemirror_mode": {
    "name": "ipython",
    "version": 3
   },
   "file_extension": ".py",
   "mimetype": "text/x-python",
   "name": "python",
   "nbconvert_exporter": "python",
   "pygments_lexer": "ipython3",
   "version": "3.7.16"
  },
  "widgets": {
   "application/vnd.jupyter.widget-state+json": {
    "state": {
     "04696f800c7246f8bb09fc2f099e1d31": {
      "model_module": "@jupyter-widgets/base",
      "model_module_version": "2.0.0",
      "model_name": "LayoutModel",
      "state": {}
     },
     "2cf77248bff84365aed9d72e8f0f0f91": {
      "model_module": "@jupyter-widgets/controls",
      "model_module_version": "2.0.0",
      "model_name": "ProgressStyleModel",
      "state": {
       "bar_color": "yellow",
       "description_width": ""
      }
     },
     "33ede0c0b52c43019c5fc7b08349ed98": {
      "model_module": "@jupyter-widgets/controls",
      "model_module_version": "2.0.0",
      "model_name": "FloatProgressModel",
      "state": {
       "bar_style": "success",
       "description": "Epoch 1/1",
       "layout": "IPY_MODEL_e4e8ba3506c04da8af142c244afe3f49",
       "style": "IPY_MODEL_2cf77248bff84365aed9d72e8f0f0f91",
       "value": 100
      }
     },
     "8a3ad6ca23004266895b90f428f61c9a": {
      "model_module": "@jupyter-widgets/controls",
      "model_module_version": "2.0.0",
      "model_name": "HTMLStyleModel",
      "state": {
       "description_width": "",
       "font_size": null,
       "text_color": null
      }
     },
     "94f6d1cec56b4a42a2e7fca99cf73949": {
      "model_module": "@jupyter-widgets/controls",
      "model_module_version": "2.0.0",
      "model_name": "HTMLStyleModel",
      "state": {
       "description_width": "",
       "font_size": null,
       "text_color": null
      }
     },
     "9e79e02b93a3438bab900f879dddacd9": {
      "model_module": "@jupyter-widgets/base",
      "model_module_version": "2.0.0",
      "model_name": "LayoutModel",
      "state": {}
     },
     "a2e8c54ede114b0b985f58a259265eb9": {
      "model_module": "@jupyter-widgets/controls",
      "model_module_version": "2.0.0",
      "model_name": "HTMLModel",
      "state": {
       "layout": "IPY_MODEL_9e79e02b93a3438bab900f879dddacd9",
       "style": "IPY_MODEL_8a3ad6ca23004266895b90f428f61c9a",
       "value": "- Mean Out Loss: 0.7096<br>- Mean Acc: 0.8215"
      }
     },
     "a402f31910d449afa194b965839cd538": {
      "model_module": "@jupyter-widgets/base",
      "model_module_version": "2.0.0",
      "model_name": "LayoutModel",
      "state": {}
     },
     "a41f4755871741bbbbb058ab498d5a84": {
      "model_module": "@jupyter-widgets/base",
      "model_module_version": "2.0.0",
      "model_name": "LayoutModel",
      "state": {}
     },
     "a751f06c8ce24da7a573d9ab47c1b1fe": {
      "model_module": "@jupyter-widgets/base",
      "model_module_version": "2.0.0",
      "model_name": "LayoutModel",
      "state": {}
     },
     "b9107094b2e14984a0b9786bfec18d9b": {
      "model_module": "@jupyter-widgets/controls",
      "model_module_version": "2.0.0",
      "model_name": "ProgressStyleModel",
      "state": {
       "bar_color": "yellow",
       "description_width": ""
      }
     },
     "d210d340926345dfad86b7e12277a154": {
      "model_module": "@jupyter-widgets/controls",
      "model_module_version": "2.0.0",
      "model_name": "HTMLModel",
      "state": {
       "layout": "IPY_MODEL_a751f06c8ce24da7a573d9ab47c1b1fe",
       "style": "IPY_MODEL_94f6d1cec56b4a42a2e7fca99cf73949",
       "value": "- Mean Out Loss: 0.1040<br>- Mean Acc: 0.9834"
      }
     },
     "dd0aee0123db42688fcda09480dfb7ef": {
      "model_module": "@jupyter-widgets/controls",
      "model_module_version": "2.0.0",
      "model_name": "FloatProgressModel",
      "state": {
       "bar_style": "success",
       "description": "Epoch 1/1",
       "layout": "IPY_MODEL_04696f800c7246f8bb09fc2f099e1d31",
       "style": "IPY_MODEL_b9107094b2e14984a0b9786bfec18d9b",
       "value": 100
      }
     },
     "e46c7783aaa24e17bd9a937bfcfaba7c": {
      "model_module": "@jupyter-widgets/controls",
      "model_module_version": "2.0.0",
      "model_name": "VBoxModel",
      "state": {
       "children": [
        "IPY_MODEL_33ede0c0b52c43019c5fc7b08349ed98",
        "IPY_MODEL_d210d340926345dfad86b7e12277a154"
       ],
       "layout": "IPY_MODEL_a402f31910d449afa194b965839cd538"
      }
     },
     "e4e8ba3506c04da8af142c244afe3f49": {
      "model_module": "@jupyter-widgets/base",
      "model_module_version": "2.0.0",
      "model_name": "LayoutModel",
      "state": {}
     },
     "ee66b3bce1fb4553b59899ebaf6abcb2": {
      "model_module": "@jupyter-widgets/controls",
      "model_module_version": "2.0.0",
      "model_name": "VBoxModel",
      "state": {
       "children": [
        "IPY_MODEL_dd0aee0123db42688fcda09480dfb7ef",
        "IPY_MODEL_a2e8c54ede114b0b985f58a259265eb9"
       ],
       "layout": "IPY_MODEL_a41f4755871741bbbbb058ab498d5a84"
      }
     }
    },
    "version_major": 2,
    "version_minor": 0
   }
  }
 },
 "nbformat": 4,
 "nbformat_minor": 5
}
