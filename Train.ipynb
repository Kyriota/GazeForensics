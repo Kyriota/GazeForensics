{
 "cells": [
  {
   "cell_type": "code",
   "execution_count": null,
   "id": "7091ddb6",
   "metadata": {},
   "outputs": [],
   "source": [
    "import sys\n",
    "\n",
    "if 'Utils/' not in sys.path:\n",
    "    sys.path.append('Utils/')\n",
    "# from FileOperation import *\n",
    "# from Visualization import *\n",
    "\n",
    "from Train import TrainManager\n",
    "\n",
    "# import random\n",
    "# import numpy as np\n",
    "# from PIL import Image\n",
    "\n",
    "# import torch\n",
    "# import torch.nn as nn\n",
    "import torch.backends.cudnn as cudnn\n",
    "\n",
    "cudnn.benchmark = True"
   ]
  },
  {
   "cell_type": "code",
   "execution_count": null,
   "id": "41e726de",
   "metadata": {},
   "outputs": [],
   "source": [
    "trainManager = TrainManager()"
   ]
  },
  {
   "cell_type": "code",
   "execution_count": null,
   "id": "4e79f8d6-bbb1-4f27-b6d8-2def5068735a",
   "metadata": {
    "tags": []
   },
   "outputs": [],
   "source": [
    "trainManager.train()"
   ]
  }
 ],
 "metadata": {
  "kernelspec": {
   "display_name": "Python 3 (ipykernel)",
   "language": "python",
   "name": "python3"
  },
  "language_info": {
   "codemirror_mode": {
    "name": "ipython",
    "version": 3
   },
   "file_extension": ".py",
   "mimetype": "text/x-python",
   "name": "python",
   "nbconvert_exporter": "python",
   "pygments_lexer": "ipython3",
   "version": "3.7.16"
  }
 },
 "nbformat": 4,
 "nbformat_minor": 5
}
