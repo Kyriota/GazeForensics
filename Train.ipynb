{
 "cells": [
  {
   "cell_type": "code",
   "execution_count": null,
   "id": "7091ddb6",
   "metadata": {},
   "outputs": [],
   "source": [
    "import sys\n",
    "\n",
    "if 'Utils/' not in sys.path:\n",
    "    sys.path.append('Utils/')\n",
    "from FileOperation import *\n",
    "from Visualization import *\n",
    "\n",
    "from Train import TrainManager\n",
    "\n",
    "import random\n",
    "import numpy as np\n",
    "from PIL import Image\n",
    "\n",
    "import torch\n",
    "import torch.nn as nn\n",
    "import torch.backends.cudnn as cudnn\n",
    "import torchvision.transforms as transforms\n",
    "\n",
    "rootDir = '/home/kyr/GazeForensicsData/'"
   ]
  },
  {
   "cell_type": "code",
   "execution_count": null,
   "id": "12fa5d90",
   "metadata": {},
   "outputs": [],
   "source": [
    "standard_transform = transforms.Compose([\n",
    "    transforms.Resize((224,224)),\n",
    "    transforms.ToTensor(),\n",
    "    transforms.Normalize(mean=[0.485, 0.456, 0.406], std=[0.229, 0.224, 0.225])\n",
    "])\n",
    "cudnn.benchmark = True"
   ]
  },
  {
   "cell_type": "code",
   "execution_count": null,
   "id": "53427794",
   "metadata": {},
   "outputs": [],
   "source": [
    "train_DS_name = 'CDF'\n",
    "test_DS_name = 'CDF'\n",
    "# Hyper Parameters, stand for parameters highly impactful to the model\n",
    "hyp = {\n",
    "    'leaky':32,\n",
    "    'save_mid_layer':False,\n",
    "    'save_last_layer':True,\n",
    "}\n",
    "# Normal Parameters, stand for parameters for basic control\n",
    "nop = {\n",
    "    # Editable Parameters\n",
    "    'test_batch_size':32,\n",
    "    'test_num_workers':4,\n",
    "    'utilization_percentage':0.01, # utilization percentage of the dataset\n",
    "    'tempDir':'temp/',\n",
    "    'num_epochs':3,\n",
    "\n",
    "    # Uneditable Parameters\n",
    "    'trainCateDictDir':'clip_info/' + train_DS_name + '_vid_category_dict.json',\n",
    "    'testClipsDir':'clipped_videos/' + test_DS_name + '_clip/',\n",
    "    'rootDir':rootDir,\n",
    "    'transform':standard_transform,\n",
    "}"
   ]
  },
  {
   "cell_type": "code",
   "execution_count": null,
   "id": "959c9a5d",
   "metadata": {
    "scrolled": true
   },
   "outputs": [],
   "source": [
    "# Checking if data_loader is working correctly\n",
    "'''\n",
    "temp_dataset = DatasetLoader(rootDir + testClipsDir, standard_transform)\n",
    "temp_loader = TDM.DataLoader(\n",
    "    temp_dataset,\n",
    "    batch_size=nop['test_batch_size'],\n",
    "    shuffle=True,\n",
    "    num_workers=nop['test_num_workers'],\n",
    "    pin_memory=False\n",
    ")\n",
    "temp_loader_enum = enumerate(temp_loader)\n",
    "temp = next(temp_loader_enum)\n",
    "for i in range(temp_loader.batch_size):\n",
    "    for j in range(14):\n",
    "        Image.fromarray(NormalizeImage(temp[1][1][i][j].permute(1,2,0).detach().numpy())).show()\n",
    "'''"
   ]
  },
  {
   "cell_type": "code",
   "execution_count": null,
   "id": "41e726de",
   "metadata": {},
   "outputs": [],
   "source": [
    "trainManager = TrainManager(nop, hyp)"
   ]
  },
  {
   "cell_type": "code",
   "execution_count": null,
   "id": "896d918c",
   "metadata": {
    "scrolled": false
   },
   "outputs": [],
   "source": [
    "trainManager.train()"
   ]
  }
 ],
 "metadata": {
  "kernelspec": {
   "display_name": "Python 3 (ipykernel)",
   "language": "python",
   "name": "python3"
  },
  "language_info": {
   "codemirror_mode": {
    "name": "ipython",
    "version": 3
   },
   "file_extension": ".py",
   "mimetype": "text/x-python",
   "name": "python",
   "nbconvert_exporter": "python",
   "pygments_lexer": "ipython3",
   "version": "3.7.16"
  }
 },
 "nbformat": 4,
 "nbformat_minor": 5
}
