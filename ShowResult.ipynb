{
 "cells": [
  {
   "cell_type": "code",
   "execution_count": 2,
   "id": "f6badb23-2831-4ea7-9274-5099f7bcca08",
   "metadata": {
    "tags": []
   },
   "outputs": [
    {
     "name": "stdout",
     "output_type": "stream",
     "text": [
      "Ablation/frozen_leaky_result.json\n",
      "Ablation/frozen_result.json\n",
      "Ablation/NoGaze_result.json\n",
      "Ablation/soft_constraint_result.json\n",
      "FF++_sub/FF++_c23_Deepfakes_result.json\n",
      "FF++_sub/FF++_c23_Face2Face_result.json\n",
      "FF++_sub/FF++_c23_FaceSwap_result.json\n",
      "FF++_sub/FF++_c23_NeuralTextures_result.json\n",
      "FF++_sub/FF++_c40_Deepfakes_result.json\n",
      "FF++_sub/FF++_c40_Face2Face_result.json\n",
      "FF++_sub/FF++_c40_FaceSwap_result.json\n",
      "FF++_sub/FF++_c40_NeuralTextures_result.json\n",
      "WDF_GridSearch/WDF_W1_D128_result.json\n",
      "WDF_GridSearch/WDF_W1_D256_result.json\n",
      "WDF_GridSearch/WDF_W1_D32_result.json\n",
      "WDF_GridSearch/WDF_W1_D64_result.json\n",
      "WDF_GridSearch/WDF_W2_D128_result.json\n",
      "WDF_GridSearch/WDF_W2_D256_result.json\n",
      "WDF_GridSearch/WDF_W2_D32_result.json\n",
      "WDF_GridSearch/WDF_W2_D64_result.json\n",
      "WDF_GridSearch/WDF_W4_D128_result.json\n",
      "WDF_GridSearch/WDF_W4_D256_result.json\n",
      "WDF_GridSearch/WDF_W4_D32_result.json\n",
      "WDF_GridSearch/WDF_W4_D64_result.json\n",
      "WDF_GridSearch/WDF_W8_D128_result.json\n",
      "WDF_GridSearch/WDF_W8_D256_result.json\n",
      "WDF_GridSearch/WDF_W8_D32_result.json\n",
      "WDF_GridSearch/WDF_W8_D64_result.json\n",
      "CDF_noGaze_result.json\n",
      "CDF_result.json\n",
      "FF++_c23_result.json\n",
      "FF++_c40_NeuralTextures_noGaze_result.json\n",
      "FF++_c40_result.json\n"
     ]
    }
   ],
   "source": [
    "from Utils.FileOperation import fileWalk\n",
    "\n",
    "results = fileWalk('Results')\n",
    "for i in range(len(results)):\n",
    "    if results[i][-4:] == 'json':\n",
    "        print(results[i])"
   ]
  }
 ],
 "metadata": {
  "kernelspec": {
   "display_name": "Python 3 (ipykernel)",
   "language": "python",
   "name": "python3"
  },
  "language_info": {
   "codemirror_mode": {
    "name": "ipython",
    "version": 3
   },
   "file_extension": ".py",
   "mimetype": "text/x-python",
   "name": "python",
   "nbconvert_exporter": "python",
   "pygments_lexer": "ipython3",
   "version": "3.7.16"
  },
  "widgets": {
   "application/vnd.jupyter.widget-state+json": {
    "state": {},
    "version_major": 2,
    "version_minor": 0
   }
  }
 },
 "nbformat": 4,
 "nbformat_minor": 5
}
