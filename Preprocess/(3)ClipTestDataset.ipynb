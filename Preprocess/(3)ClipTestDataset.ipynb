{
 "cells": [
  {
   "cell_type": "code",
   "execution_count": null,
   "id": "07bd1928",
   "metadata": {},
   "outputs": [],
   "source": [
    "import sys\n",
    "\n",
    "if '../Utils/' not in sys.path:\n",
    "    sys.path.append('../Utils/')\n",
    "from DatasetClipping import ClipTestDataset\n",
    "\n",
    "if '../' not in sys.path:\n",
    "    sys.path.append('../')\n",
    "from Config import rootDir"
   ]
  },
  {
   "cell_type": "code",
   "execution_count": null,
   "id": "0357c460",
   "metadata": {},
   "outputs": [],
   "source": [
    "ClipTestDataset(rootDir + 'clip_info/FF++_vid_category_dict.json', rootDir + 'clipped_videos/FF++_clip/')\n",
    "ClipTestDataset(rootDir + 'clip_info/WDF_vid_category_dict.json', rootDir + 'clipped_videos/WDF_clip/')\n",
    "ClipTestDataset(rootDir + 'clip_info/CDF_vid_category_dict.json', rootDir + 'clipped_videos/CDF_clip/')"
   ]
  }
 ],
 "metadata": {
  "kernelspec": {
   "display_name": "Python 3 (ipykernel)",
   "language": "python",
   "name": "python3"
  },
  "language_info": {
   "codemirror_mode": {
    "name": "ipython",
    "version": 3
   },
   "file_extension": ".py",
   "mimetype": "text/x-python",
   "name": "python",
   "nbconvert_exporter": "python",
   "pygments_lexer": "ipython3",
   "version": "3.7.16"
  }
 },
 "nbformat": 4,
 "nbformat_minor": 5
}
