{
 "cells": [
  {
   "cell_type": "markdown",
   "id": "29e770fa",
   "metadata": {},
   "source": [
    "FF++ provided mask videos for the dataset.\n",
    "\n",
    "First, utilize provided masks to reduce the overall dataset image size.\n",
    "\n",
    "Then, run cropped dataset on neural network based detector to get rid of frames without face to increase dataset quality."
   ]
  },
  {
   "cell_type": "code",
   "execution_count": 1,
   "id": "810673d6",
   "metadata": {},
   "outputs": [],
   "source": [
    "import sys\n",
    "\n",
    "if '../Utils/' not in sys.path:\n",
    "    sys.path.append('../Utils/')\n",
    "from FileOperation import *\n",
    "\n",
    "import numpy as np\n",
    "from PIL import Image\n",
    "import time\n",
    "import cv2\n",
    "import matplotlib.pyplot as plt\n",
    "from collections import Counter\n",
    "from batch_face import RetinaFace\n",
    "import statistics\n",
    "import math\n",
    "\n",
    "rootDir = '/home/kyr/GazeForensicsData/cropped_videos/'"
   ]
  },
  {
   "cell_type": "code",
   "execution_count": null,
   "id": "f43291e5",
   "metadata": {},
   "outputs": [],
   "source": [
    "def calculate_mean_frame_count(video_paths):\n",
    "    frame_counts = []\n",
    "\n",
    "    for path in video_paths:\n",
    "        cap = cv2.VideoCapture(path)\n",
    "        frame_count = int(cap.get(cv2.CAP_PROP_FRAME_COUNT))\n",
    "        frame_counts.append(frame_count)\n",
    "        cap.release()\n",
    "\n",
    "    mean_frame_count = statistics.mean(frame_counts)\n",
    "    median_frame_count = statistics.median(frame_counts)\n",
    "    max_frame_count = max(frame_counts)\n",
    "    min_frame_count = min(frame_counts)\n",
    "\n",
    "    return mean_frame_count, median_frame_count, max_frame_count, min_frame_count, frame_counts\n",
    "\n",
    "def get_frame_ranges(frame_counts, bar_width):\n",
    "    frame_ranges = []\n",
    "    for frame_count in frame_counts:\n",
    "        frame_range = (frame_count // bar_width) * bar_width\n",
    "        frame_ranges.append(frame_range)\n",
    "    return frame_ranges"
   ]
  },
  {
   "cell_type": "code",
   "execution_count": null,
   "id": "92d89f5e",
   "metadata": {},
   "outputs": [],
   "source": [
    "realDir = rootDir + 'FF++/real/c23/videos/'\n",
    "# Find length distribution of data\n",
    "video_paths = [realDir + i for i in ls(realDir)]\n",
    "mean_frames, median_frames, max_frames, min_frames, frame_counts = calculate_mean_frame_count(video_paths)\n",
    "print(f\"Mean frame count: {mean_frames}\")\n",
    "print(f\"Median frame count: {median_frames}\")\n",
    "print(f\"Maximum frame count: {max_frames}\")\n",
    "print(f\"Minimum frame count: {min_frames}\")\n",
    "\n",
    "# Define the bar width for frame ranges\n",
    "bar_width = 50\n",
    "\n",
    "# Get the frame ranges for each video\n",
    "frame_ranges = get_frame_ranges(frame_counts, bar_width)\n",
    "\n",
    "# Count the number of videos in each frame range\n",
    "frame_ranges_counter = Counter(frame_ranges)\n",
    "\n",
    "# Prepare the data for plotting\n",
    "x_values = list(frame_ranges_counter.keys())\n",
    "y_values = list(frame_ranges_counter.values())\n",
    "\n",
    "# Plotting the bar chart\n",
    "plt.bar(x_values, y_values, width=bar_width)\n",
    "plt.xlabel('Frame Count Range')\n",
    "plt.ylabel('Number of Videos')\n",
    "plt.title('Number of Videos in Frame Count Ranges')\n",
    "plt.show()"
   ]
  },
  {
   "cell_type": "code",
   "execution_count": 2,
   "id": "2db2abd0",
   "metadata": {},
   "outputs": [],
   "source": [
    "def extract(\n",
    "        mask_path,\n",
    "        data_path,\n",
    "        output_path,\n",
    "        padding=0,\n",
    "        center_tweaks=(0,0),\n",
    "        smooth_level=0\n",
    "    ):\n",
    "    '''\n",
    "    Parameters:\n",
    "        mask_path: Path to the mask video\n",
    "        data_path: Path to the original video\n",
    "        output_path: Path to the output video\n",
    "        padding: Number of pixels to add as margin to the original bounding box\n",
    "        center_tweaks: Tweaks to the center of the bounding box\n",
    "        smooth_level: Number of frames to smooth the bounding box\n",
    "    '''\n",
    "    # Task 1: Load mask video\n",
    "    mask_video = cv2.VideoCapture(mask_path)\n",
    "\n",
    "    # Task 2: Find bounding box for each frame in the mask video\n",
    "    bounding_boxes = []\n",
    "    max_w, max_h = 0, 0\n",
    "    while mask_video.isOpened():\n",
    "        success, frame = mask_video.read()\n",
    "        if not success:\n",
    "            break\n",
    "\n",
    "        gray_frame = cv2.cvtColor(frame, cv2.COLOR_BGR2GRAY)\n",
    "        ret, thresh = cv2.threshold(gray_frame, 1, 255, cv2.THRESH_BINARY)\n",
    "        contours, _ = cv2.findContours(thresh, cv2.RETR_EXTERNAL, cv2.CHAIN_APPROX_SIMPLE)\n",
    "\n",
    "        if len(contours) > 0:\n",
    "            # Find the largest contour (assumed to be the face shape)\n",
    "            largest_contour = max(contours, key=cv2.contourArea)\n",
    "            x, y, w, h = cv2.boundingRect(largest_contour)\n",
    "            center = (x + w // 2, y + h // 2)\n",
    "            center = (center[0] + center_tweaks[0], center[1] + center_tweaks[1])\n",
    "\n",
    "            # Adjust bounding box aspect ratio\n",
    "            aspect_ratio = 1.3\n",
    "            h = max(int((w + 2 * padding) * aspect_ratio), h + 2 * padding)\n",
    "            w = int(h // aspect_ratio)\n",
    "            x, y = int(center[0] - w // 2), int(center[1] - h // 2)\n",
    "\n",
    "            max_w, max_h = max(max_w, w), max(max_h, h)\n",
    "\n",
    "            bounding_boxes.append((x, y, x+w, y+h))\n",
    "        else:\n",
    "            # Set bounding box to (0, 0, 0, 0) when no contour is detected (pure black frame)\n",
    "            print('\\nNo bounding box found at frame', len(bounding_boxes))\n",
    "            bounding_boxes.append((0, 0, 0, 0))\n",
    "\n",
    "    mask_video.release()\n",
    "    max_w, max_h = max(max_w, int(max_h // 1.3)), max(max_h, int(max_w * 1.3))\n",
    "\n",
    "    # Task 3: Load original video\n",
    "    original_video = cv2.VideoCapture(data_path)\n",
    "\n",
    "    # Task 4: Crop original video frames using the mask's bounding boxes with PIL.Image\n",
    "    cropped_frames = []\n",
    "\n",
    "    for idx in range(len(bounding_boxes)):\n",
    "        success, frame = original_video.read()\n",
    "        if not success:\n",
    "            break\n",
    "            \n",
    "        frame = cv2.cvtColor(frame, cv2.COLOR_BGR2RGB)\n",
    "        if bounding_boxes[idx] != (0, 0, 0, 0):\n",
    "            # Smooth bounding boxes\n",
    "            id_0 = max(0, idx - smooth_level // 2)\n",
    "            id_1 = min(len(bounding_boxes), idx + 1 + math.ceil(smooth_level / 2))\n",
    "            curr_bounding_box = smooth_frames(bounding_boxes[id_0:id_1])\n",
    "            \n",
    "            cropped_frame = Image.fromarray(frame).crop(curr_bounding_box)\n",
    "            cropped_frames.append(cropped_frame)\n",
    "\n",
    "    # Task 5: Resize cropped frames and save as a video\n",
    "    output_size = (max_w, max_h)\n",
    "    fourcc = cv2.VideoWriter_fourcc(*'mp4v')\n",
    "    out = cv2.VideoWriter(output_path, fourcc, 30.0, output_size)\n",
    "\n",
    "    for frame in cropped_frames:\n",
    "        resized_frame = frame.resize(output_size)\n",
    "        out.write(cv2.cvtColor(np.array(resized_frame), cv2.COLOR_RGB2BGR))\n",
    "\n",
    "    out.release()\n",
    "\n",
    "\n",
    "def smooth_frames(bounding_boxes):\n",
    "    '''\n",
    "    Smooth bounding boxes using linear interpolation\n",
    "    Parameters:\n",
    "        bounding_boxes: List of bounding boxes, length of list means smooth level\n",
    "    Return:\n",
    "        One smoothed bounding box\n",
    "    '''\n",
    "\n",
    "    # Filter out (0, 0, 0, 0) bounding boxes\n",
    "    filtered_boxes = [box for box in bounding_boxes if box != (0, 0, 0, 0)]\n",
    "    \n",
    "    if len(filtered_boxes) == 0:\n",
    "        return (0, 0, 0, 0)\n",
    "\n",
    "    # Linear interpolation of bounding boxes\n",
    "    x0, y0, x1, y1 = 0, 0, 0, 0\n",
    "    for bounding_box in filtered_boxes:\n",
    "        x0 += bounding_box[0]\n",
    "        y0 += bounding_box[1]\n",
    "        x1 += bounding_box[2]\n",
    "        y1 += bounding_box[3]\n",
    "\n",
    "    x0, y0, x1, y1 = int(x0 / len(filtered_boxes)), int(y0 / len(filtered_boxes)), int(x1 / len(filtered_boxes)), int(y1 / len(filtered_boxes))\n",
    "    return (x0, y0, x1, y1)"
   ]
  },
  {
   "cell_type": "markdown",
   "id": "9f0bb273",
   "metadata": {},
   "source": [
    "**NOTICE**\n",
    "\n",
    "227 is in test set, but it will be moved into abandoned folder due to its broken manipulation\n",
    "\n",
    "Please move it to its original position manually"
   ]
  },
  {
   "cell_type": "code",
   "execution_count": 3,
   "id": "eb38d679",
   "metadata": {},
   "outputs": [],
   "source": [
    "def detect(\n",
    "        detector,\n",
    "        vidDir,\n",
    "        batch_size=400\n",
    "    ):\n",
    "    '''\n",
    "    Detect faces in the video and delete frames without faces detected\n",
    "    Parameters:\n",
    "        detector: Face detector\n",
    "        vidDir: Path to the video directory\n",
    "        batch_size: Number of frames processed by the detector at a time\n",
    "    Video Types:\n",
    "        abandoned: You won't see it in its original path,\n",
    "            it will be moved into the abandoned folder without any editing\n",
    "        troublesome: You will see its edited version in its original path,\n",
    "            and the original version in the troublesome folder\n",
    "        low_quality: You won't see its edited version in its original path,\n",
    "            it will be moved into the low_quality folder without any editing\n",
    "    '''\n",
    "    # Load video\n",
    "    out = cv2.VideoCapture(vidDir)\n",
    "    \n",
    "    # Load frames\n",
    "    frames = []\n",
    "    while out.isOpened():\n",
    "        success, frame = out.read()\n",
    "        if not success:\n",
    "            break\n",
    "        frames.append(frame)\n",
    "    out.release()\n",
    "    \n",
    "    # Detect faces\n",
    "    emptyFrameIndices = []\n",
    "    all_faces = []\n",
    "    for i in range(math.ceil(len(frames)/batch_size)):\n",
    "        all_faces.extend(detector(frames[i*batch_size:(i+1)*batch_size]))\n",
    "    for i, face_info in enumerate(all_faces):\n",
    "        empty = True\n",
    "        for box, landmarks, score in face_info:\n",
    "            # Score > 0.95 and bbox area > 40% of the frame\n",
    "            if score > 0.95 and (box[2] - box[0]) * (box[3] - box[1]) > frames[i].shape[0] * frames[i].shape[1] * 0.4:\n",
    "                empty = False\n",
    "                break\n",
    "        if empty:\n",
    "            emptyFrameIndices.append(i)\n",
    "    \n",
    "    if len(emptyFrameIndices) == 0:\n",
    "        return\n",
    "    \n",
    "    print('\\n * ' + str(len(emptyFrameIndices)) + ' Empty frames detected')\n",
    "\n",
    "    if len(frames) - len(emptyFrameIndices) < 56:\n",
    "        print(' >> Too few frames left, deleted')\n",
    "        make_backup(vidDir, 'abandoned')\n",
    "        rm(vidDir)\n",
    "        return\n",
    "\n",
    "    low_quality = False\n",
    "    if len(emptyFrameIndices) > 0.5 * len(frames):\n",
    "        print(' >> Low quality video')\n",
    "        low_quality = True\n",
    "    \n",
    "    # Delete frames without faces detected\n",
    "    for i in emptyFrameIndices[::-1]:\n",
    "        '''\n",
    "        # Show the frame\n",
    "        frame = cv2.cvtColor(frames[i], cv2.COLOR_BGR2RGB)\n",
    "        frame = Image.fromarray(frame).resize((int(frame.shape[1] / 2), int(frame.shape[0] / 2)))\n",
    "        frame.show()\n",
    "        '''\n",
    "        del frames[i]\n",
    "    \n",
    "    # Make backup of the original video\n",
    "    make_backup(vidDir, 'troublesome')\n",
    "    \n",
    "    # Write frames to video\n",
    "    fourcc = cv2.VideoWriter_fourcc(*'mp4v')\n",
    "    if low_quality:\n",
    "        original_vidDir = vidDir\n",
    "        vidDir = make_backup(vidDir, 'low_quality')\n",
    "    out = cv2.VideoWriter(vidDir, fourcc, 30, (frames[0].shape[1], frames[0].shape[0]))\n",
    "    for frame in frames:\n",
    "        out.write(frame)\n",
    "    out.release()\n",
    "    if low_quality:\n",
    "        rm(original_vidDir)\n",
    "\n",
    "def make_backup(vidDir, backup_dir='backup'):\n",
    "    output_path_elements = vidDir.split('/')\n",
    "    last_len = len(output_path_elements[-1])\n",
    "    output_path_elements[-1] = backup_dir + '/' + output_path_elements[-1]\n",
    "    output_path = '/'.join(output_path_elements)\n",
    "    mkdir(output_path[:-last_len])\n",
    "    cp(vidDir, output_path)\n",
    "    return output_path"
   ]
  },
  {
   "cell_type": "code",
   "execution_count": 5,
   "id": "7e5076d3",
   "metadata": {},
   "outputs": [
    {
     "name": "stdout",
     "output_type": "stream",
     "text": [
      "Fri Jun  9 13:51:56 2023 : /home/kyr/FF++/fake/Deepfakes/c23/videos/024_073.mp4             \n",
      "No bounding box found at frame 225\n",
      "\n",
      "No bounding box found at frame 226\n",
      "Fri Jun  9 13:52:21 2023 : /home/kyr/FF++/fake/Deepfakes/c23/videos/105_180.mp4             \n",
      " * 1 Empty frames detected\n"
     ]
    },
    {
     "name": "stderr",
     "output_type": "stream",
     "text": [
      "mkdir: cannot create directory ‘/home/kyr/FF++_crop/fake/Deepfakes/troublesome/’: File exists\n"
     ]
    },
    {
     "name": "stdout",
     "output_type": "stream",
     "text": [
      "Fri Jun  9 13:52:36 2023 : /home/kyr/FF++/fake/Deepfakes/c23/videos/128_896.mp4             \n",
      " * 1 Empty frames detected\n"
     ]
    },
    {
     "name": "stderr",
     "output_type": "stream",
     "text": [
      "mkdir: cannot create directory ‘/home/kyr/FF++_crop/fake/Deepfakes/troublesome/’: File exists\n"
     ]
    },
    {
     "name": "stdout",
     "output_type": "stream",
     "text": [
      "Fri Jun  9 13:52:52 2023 : /home/kyr/FF++/fake/Deepfakes/c23/videos/163_031.mp4             \n",
      " * 2 Empty frames detected\n",
      "Fri Jun  9 13:52:54 2023 : /home/kyr/FF++/fake/Deepfakes/c23/videos/164_216.mp4             "
     ]
    },
    {
     "name": "stderr",
     "output_type": "stream",
     "text": [
      "mkdir: cannot create directory ‘/home/kyr/FF++_crop/fake/Deepfakes/troublesome/’: File exists\n"
     ]
    },
    {
     "name": "stdout",
     "output_type": "stream",
     "text": [
      "Fri Jun  9 13:53:28 2023 : /home/kyr/FF++/fake/Deepfakes/c23/videos/212_179.mp4             \n",
      " * 2 Empty frames detected\n"
     ]
    },
    {
     "name": "stderr",
     "output_type": "stream",
     "text": [
      "mkdir: cannot create directory ‘/home/kyr/FF++_crop/fake/Deepfakes/troublesome/’: File exists\n"
     ]
    },
    {
     "name": "stdout",
     "output_type": "stream",
     "text": [
      "Fri Jun  9 13:53:51 2023 : /home/kyr/FF++/fake/Deepfakes/c23/videos/305_513.mp4             \n",
      " * 58 Empty frames detected\n"
     ]
    },
    {
     "name": "stderr",
     "output_type": "stream",
     "text": [
      "mkdir: cannot create directory ‘/home/kyr/FF++_crop/fake/Deepfakes/troublesome/’: File exists\n"
     ]
    },
    {
     "name": "stdout",
     "output_type": "stream",
     "text": [
      "Fri Jun  9 13:54:24 2023 : /home/kyr/FF++/fake/Deepfakes/c23/videos/370_483.mp4             \n",
      "No bounding box found at frame 262\n",
      "\n",
      "No bounding box found at frame 263\n",
      "\n",
      "No bounding box found at frame 264\n",
      "\n",
      "No bounding box found at frame 265\n",
      "\n",
      "No bounding box found at frame 266\n",
      "\n",
      " * 8 Empty frames detected\n"
     ]
    },
    {
     "name": "stderr",
     "output_type": "stream",
     "text": [
      "mkdir: cannot create directory ‘/home/kyr/FF++_crop/fake/Deepfakes/troublesome/’: File exists\n"
     ]
    },
    {
     "name": "stdout",
     "output_type": "stream",
     "text": [
      "Fri Jun  9 13:54:49 2023 : /home/kyr/FF++/fake/Deepfakes/c23/videos/416_342.mp4             \n",
      " * 13 Empty frames detected\n"
     ]
    },
    {
     "name": "stderr",
     "output_type": "stream",
     "text": [
      "mkdir: cannot create directory ‘/home/kyr/FF++_crop/fake/Deepfakes/troublesome/’: File exists\n"
     ]
    },
    {
     "name": "stdout",
     "output_type": "stream",
     "text": [
      "Fri Jun  9 13:55:27 2023 : /home/kyr/FF++/fake/Deepfakes/c23/videos/509_525.mp4             \n",
      " * 93 Empty frames detected\n"
     ]
    },
    {
     "name": "stderr",
     "output_type": "stream",
     "text": [
      "mkdir: cannot create directory ‘/home/kyr/FF++_crop/fake/Deepfakes/troublesome/’: File exists\n"
     ]
    },
    {
     "name": "stdout",
     "output_type": "stream",
     "text": [
      "Fri Jun  9 13:55:47 2023 : /home/kyr/FF++/fake/Deepfakes/c23/videos/569_921.mp4             \n",
      " * 227 Empty frames detected\n",
      " >> Low quality video\n"
     ]
    },
    {
     "name": "stderr",
     "output_type": "stream",
     "text": [
      "mkdir: cannot create directory ‘/home/kyr/FF++_crop/fake/Deepfakes/troublesome/’: File exists\n",
      "mkdir: cannot create directory ‘/home/kyr/FF++_crop/fake/Deepfakes/low_quality/’: File exists\n"
     ]
    },
    {
     "name": "stdout",
     "output_type": "stream",
     "text": [
      "Fri Jun  9 13:56:07 2023 : /home/kyr/FF++/fake/Deepfakes/c23/videos/629_618.mp4             \n",
      "No bounding box found at frame 323\n",
      "\n",
      "No bounding box found at frame 324\n",
      "\n",
      "No bounding box found at frame 325\n",
      "\n",
      "No bounding box found at frame 326\n",
      "Fri Jun  9 13:56:12 2023 : /home/kyr/FF++/fake/Deepfakes/c23/videos/638_640.mp4             \n",
      " * 669 Empty frames detected\n",
      " >> Too few frames left, deleted\n"
     ]
    },
    {
     "name": "stderr",
     "output_type": "stream",
     "text": [
      "mkdir: cannot create directory ‘/home/kyr/FF++_crop/fake/Deepfakes/abandoned/’: File exists\n"
     ]
    },
    {
     "name": "stdout",
     "output_type": "stream",
     "text": [
      "Fri Jun  9 13:56:46 2023 : /home/kyr/FF++/fake/Deepfakes/c23/videos/738_804.mp4             \n",
      " * 5 Empty frames detected\n"
     ]
    },
    {
     "name": "stderr",
     "output_type": "stream",
     "text": [
      "mkdir: cannot create directory ‘/home/kyr/FF++_crop/fake/Deepfakes/troublesome/’: File exists\n"
     ]
    },
    {
     "name": "stdout",
     "output_type": "stream",
     "text": [
      "Fri Jun  9 13:57:17 2023 : /home/kyr/FF++/fake/Deepfakes/c23/videos/805_011.mp4             \n",
      " * 1 Empty frames detected\n"
     ]
    },
    {
     "name": "stderr",
     "output_type": "stream",
     "text": [
      "mkdir: cannot create directory ‘/home/kyr/FF++_crop/fake/Deepfakes/troublesome/’: File exists\n"
     ]
    },
    {
     "name": "stdout",
     "output_type": "stream",
     "text": [
      "Fri Jun  9 13:57:49 2023 : /home/kyr/FF++/fake/Deepfakes/c23/videos/850_764.mp4             \n",
      "No bounding box found at frame 96\n",
      "\n",
      "No bounding box found at frame 97\n",
      "\n",
      "No bounding box found at frame 98\n",
      "\n",
      " * 3 Empty frames detected\n"
     ]
    },
    {
     "name": "stderr",
     "output_type": "stream",
     "text": [
      "mkdir: cannot create directory ‘/home/kyr/FF++_crop/fake/Deepfakes/troublesome/’: File exists\n"
     ]
    },
    {
     "name": "stdout",
     "output_type": "stream",
     "text": [
      "Fri Jun  9 13:58:15 2023 : /home/kyr/FF++/fake/Deepfakes/c23/videos/894_848.mp4             \n",
      " * 164 Empty frames detected\n"
     ]
    },
    {
     "name": "stderr",
     "output_type": "stream",
     "text": [
      "mkdir: cannot create directory ‘/home/kyr/FF++_crop/fake/Deepfakes/troublesome/’: File exists\n"
     ]
    },
    {
     "name": "stdout",
     "output_type": "stream",
     "text": [
      "Fri Jun  9 13:58:24 2023 : /home/kyr/FF++/fake/Deepfakes/c23/videos/950_836.mp4             \n",
      "No bounding box found at frame 727\n",
      "\n",
      "No bounding box found at frame 728\n",
      "\n",
      "No bounding box found at frame 729\n",
      "\n",
      "No bounding box found at frame 730\n",
      "\n",
      "No bounding box found at frame 731\n",
      "\n",
      " * 4 Empty frames detected\n"
     ]
    },
    {
     "name": "stderr",
     "output_type": "stream",
     "text": [
      "mkdir: cannot create directory ‘/home/kyr/FF++_crop/fake/Deepfakes/troublesome/’: File exists\n"
     ]
    },
    {
     "name": "stdout",
     "output_type": "stream",
     "text": [
      "Fri Jun  9 13:59:38 2023 : /home/kyr/FF++/fake/Face2Face/c23/videos/105_180.mp4             \n",
      " * 2 Empty frames detected\n"
     ]
    },
    {
     "name": "stderr",
     "output_type": "stream",
     "text": [
      "mkdir: cannot create directory ‘/home/kyr/FF++_crop/fake/Face2Face/troublesome/’: File exists\n"
     ]
    },
    {
     "name": "stdout",
     "output_type": "stream",
     "text": [
      "Fri Jun  9 13:59:40 2023 : /home/kyr/FF++/fake/Face2Face/c23/videos/115_939.mp4             \n",
      " * 511 Empty frames detected\n",
      " >> Too few frames left, deleted\n"
     ]
    },
    {
     "name": "stderr",
     "output_type": "stream",
     "text": [
      "mkdir: cannot create directory ‘/home/kyr/FF++_crop/fake/Face2Face/abandoned/’: File exists\n"
     ]
    },
    {
     "name": "stdout",
     "output_type": "stream",
     "text": [
      "Fri Jun  9 13:59:52 2023 : /home/kyr/FF++/fake/Face2Face/c23/videos/170_186.mp4             \n",
      " * 13 Empty frames detected\n"
     ]
    },
    {
     "name": "stderr",
     "output_type": "stream",
     "text": [
      "mkdir: cannot create directory ‘/home/kyr/FF++_crop/fake/Face2Face/troublesome/’: File exists\n"
     ]
    },
    {
     "name": "stdout",
     "output_type": "stream",
     "text": [
      "Fri Jun  9 13:59:57 2023 : /home/kyr/FF++/fake/Face2Face/c23/videos/175_159.mp4             \n",
      " * 1 Empty frames detected\n"
     ]
    },
    {
     "name": "stderr",
     "output_type": "stream",
     "text": [
      "mkdir: cannot create directory ‘/home/kyr/FF++_crop/fake/Face2Face/troublesome/’: File exists\n"
     ]
    },
    {
     "name": "stdout",
     "output_type": "stream",
     "text": [
      "Fri Jun  9 14:00:05 2023 : /home/kyr/FF++/fake/Face2Face/c23/videos/212_179.mp4             \n",
      " * 5 Empty frames detected\n"
     ]
    },
    {
     "name": "stderr",
     "output_type": "stream",
     "text": [
      "mkdir: cannot create directory ‘/home/kyr/FF++_crop/fake/Face2Face/troublesome/’: File exists\n"
     ]
    },
    {
     "name": "stdout",
     "output_type": "stream",
     "text": [
      "Fri Jun  9 14:00:18 2023 : /home/kyr/FF++/fake/Face2Face/c23/videos/227_169.mp4             \n",
      " * 649 Empty frames detected\n",
      " >> Too few frames left, deleted\n"
     ]
    },
    {
     "name": "stderr",
     "output_type": "stream",
     "text": [
      "mkdir: cannot create directory ‘/home/kyr/FF++_crop/fake/Face2Face/abandoned/’: File exists\n"
     ]
    },
    {
     "name": "stdout",
     "output_type": "stream",
     "text": [
      "Fri Jun  9 14:01:34 2023 : /home/kyr/FF++/fake/Face2Face/c23/videos/370_483.mp4             \n",
      " * 6 Empty frames detected\n"
     ]
    },
    {
     "name": "stderr",
     "output_type": "stream",
     "text": [
      "mkdir: cannot create directory ‘/home/kyr/FF++_crop/fake/Face2Face/troublesome/’: File exists\n"
     ]
    },
    {
     "name": "stdout",
     "output_type": "stream",
     "text": [
      "Fri Jun  9 14:02:33 2023 : /home/kyr/FF++/fake/Face2Face/c23/videos/509_525.mp4             \n",
      " * 65 Empty frames detected\n"
     ]
    },
    {
     "name": "stderr",
     "output_type": "stream",
     "text": [
      "mkdir: cannot create directory ‘/home/kyr/FF++_crop/fake/Face2Face/troublesome/’: File exists\n"
     ]
    },
    {
     "name": "stdout",
     "output_type": "stream",
     "text": [
      "Fri Jun  9 14:03:13 2023 : /home/kyr/FF++/fake/Face2Face/c23/videos/607_683.mp4             \n",
      " * 24 Empty frames detected\n"
     ]
    },
    {
     "name": "stderr",
     "output_type": "stream",
     "text": [
      "mkdir: cannot create directory ‘/home/kyr/FF++_crop/fake/Face2Face/troublesome/’: File exists\n"
     ]
    },
    {
     "name": "stdout",
     "output_type": "stream",
     "text": [
      "Fri Jun  9 14:03:24 2023 : /home/kyr/FF++/fake/Face2Face/c23/videos/618_629.mp4             \n",
      " * 126 Empty frames detected\n"
     ]
    },
    {
     "name": "stderr",
     "output_type": "stream",
     "text": [
      "mkdir: cannot create directory ‘/home/kyr/FF++_crop/fake/Face2Face/troublesome/’: File exists\n"
     ]
    },
    {
     "name": "stdout",
     "output_type": "stream",
     "text": [
      "Fri Jun  9 14:03:55 2023 : /home/kyr/FF++/fake/Face2Face/c23/videos/629_618.mp4             \n",
      "No bounding box found at frame 323\n",
      "\n",
      "No bounding box found at frame 324\n",
      "\n",
      "No bounding box found at frame 325\n",
      "\n",
      "No bounding box found at frame 326\n",
      "Fri Jun  9 14:04:36 2023 : /home/kyr/FF++/fake/Face2Face/c23/videos/738_804.mp4             \n",
      " * 43 Empty frames detected\n"
     ]
    },
    {
     "name": "stderr",
     "output_type": "stream",
     "text": [
      "mkdir: cannot create directory ‘/home/kyr/FF++_crop/fake/Face2Face/troublesome/’: File exists\n"
     ]
    },
    {
     "name": "stdout",
     "output_type": "stream",
     "text": [
      "Fri Jun  9 14:05:53 2023 : /home/kyr/FF++/fake/Face2Face/c23/videos/850_764.mp4             \n",
      " * 2 Empty frames detected\n"
     ]
    },
    {
     "name": "stderr",
     "output_type": "stream",
     "text": [
      "mkdir: cannot create directory ‘/home/kyr/FF++_crop/fake/Face2Face/troublesome/’: File exists\n"
     ]
    },
    {
     "name": "stdout",
     "output_type": "stream",
     "text": [
      "Fri Jun  9 14:06:25 2023 : /home/kyr/FF++/fake/FaceSwap/c23/videos/009_027.mp4              \n",
      "No bounding box found at frame 308\n",
      "\n",
      "No bounding box found at frame 314\n",
      "Fri Jun  9 14:06:26 2023 : /home/kyr/FF++/fake/FaceSwap/c23/videos/011_805.mp4             \n",
      "No bounding box found at frame 319\n",
      "Fri Jun  9 14:06:29 2023 : /home/kyr/FF++/fake/FaceSwap/c23/videos/027_009.mp4             \n",
      "No bounding box found at frame 308\n",
      "\n",
      "No bounding box found at frame 314\n",
      "Fri Jun  9 14:06:31 2023 : /home/kyr/FF++/fake/FaceSwap/c23/videos/096_101.mp4             \n",
      "No bounding box found at frame 193\n",
      "\n",
      "No bounding box found at frame 196\n",
      "\n",
      "No bounding box found at frame 197\n",
      "\n",
      "No bounding box found at frame 199\n",
      "\n",
      "No bounding box found at frame 200\n",
      "\n",
      "No bounding box found at frame 318\n",
      "Fri Jun  9 14:06:36 2023 : /home/kyr/FF++/fake/FaceSwap/c23/videos/101_096.mp4             \n",
      "No bounding box found at frame 193\n",
      "\n",
      "No bounding box found at frame 196\n",
      "\n",
      "No bounding box found at frame 197\n",
      "\n",
      "No bounding box found at frame 199\n",
      "\n",
      "No bounding box found at frame 200\n",
      "\n",
      "No bounding box found at frame 318\n",
      "Fri Jun  9 14:06:38 2023 : /home/kyr/FF++/fake/FaceSwap/c23/videos/128_896.mp4             \n",
      "No bounding box found at frame 441\n",
      "\n",
      "No bounding box found at frame 442\n",
      "Fri Jun  9 14:06:40 2023 : /home/kyr/FF++/fake/FaceSwap/c23/videos/135_880.mp4             \n",
      "No bounding box found at frame 94\n",
      "\n",
      "No bounding box found at frame 95\n",
      "\n",
      "No bounding box found at frame 178\n",
      "\n",
      "No bounding box found at frame 179\n",
      "\n",
      "No bounding box found at frame 197\n",
      "\n",
      "No bounding box found at frame 223\n",
      "Fri Jun  9 14:06:42 2023 : /home/kyr/FF++/fake/FaceSwap/c23/videos/155_576.mp4             \n",
      "No bounding box found at frame 167\n",
      "\n",
      "No bounding box found at frame 168\n",
      "\n",
      "No bounding box found at frame 418\n",
      "\n",
      "No bounding box found at frame 439\n",
      "\n",
      "No bounding box found at frame 440\n",
      "\n",
      "No bounding box found at frame 441\n",
      "\n",
      "No bounding box found at frame 442\n",
      "\n",
      "No bounding box found at frame 443\n",
      "\n",
      "No bounding box found at frame 445\n",
      "Fri Jun  9 14:06:44 2023 : /home/kyr/FF++/fake/FaceSwap/c23/videos/170_186.mp4             \n",
      "No bounding box found at frame 277\n",
      "\n",
      "No bounding box found at frame 278\n",
      "\n",
      "No bounding box found at frame 279\n",
      "\n",
      "No bounding box found at frame 280\n",
      "\n",
      "No bounding box found at frame 281\n",
      "\n",
      "No bounding box found at frame 282\n",
      "Fri Jun  9 14:06:49 2023 : /home/kyr/FF++/fake/FaceSwap/c23/videos/186_170.mp4             \n",
      "No bounding box found at frame 277\n",
      "\n",
      "No bounding box found at frame 278\n",
      "\n",
      "No bounding box found at frame 279\n",
      "\n",
      "No bounding box found at frame 280\n",
      "\n",
      "No bounding box found at frame 281\n",
      "\n",
      "No bounding box found at frame 282\n",
      "Fri Jun  9 14:06:54 2023 : /home/kyr/FF++/fake/FaceSwap/c23/videos/212_179.mp4             \n",
      " * 1 Empty frames detected\n"
     ]
    },
    {
     "name": "stderr",
     "output_type": "stream",
     "text": [
      "mkdir: cannot create directory ‘/home/kyr/FF++_crop/fake/FaceSwap/troublesome/’: File exists\n"
     ]
    },
    {
     "name": "stdout",
     "output_type": "stream",
     "text": [
      "Fri Jun  9 14:06:56 2023 : /home/kyr/FF++/fake/FaceSwap/c23/videos/281_474.mp4             \n",
      " * 3 Empty frames detected\n"
     ]
    },
    {
     "name": "stderr",
     "output_type": "stream",
     "text": [
      "mkdir: cannot create directory ‘/home/kyr/FF++_crop/fake/FaceSwap/troublesome/’: File exists\n"
     ]
    },
    {
     "name": "stdout",
     "output_type": "stream",
     "text": [
      "Fri Jun  9 14:06:58 2023 : /home/kyr/FF++/fake/FaceSwap/c23/videos/317_359.mp4             \n",
      "No bounding box found at frame 109\n",
      "\n",
      "No bounding box found at frame 110\n",
      "\n",
      "No bounding box found at frame 111\n",
      "\n",
      "No bounding box found at frame 198\n",
      "\n",
      "No bounding box found at frame 358\n",
      "Fri Jun  9 14:07:00 2023 : /home/kyr/FF++/fake/FaceSwap/c23/videos/340_341.mp4             \n",
      "No bounding box found at frame 292\n",
      "Fri Jun  9 14:07:03 2023 : /home/kyr/FF++/fake/FaceSwap/c23/videos/341_340.mp4             \n",
      "No bounding box found at frame 292\n",
      "Fri Jun  9 14:07:06 2023 : /home/kyr/FF++/fake/FaceSwap/c23/videos/359_317.mp4             \n",
      "No bounding box found at frame 109\n",
      "\n",
      "No bounding box found at frame 110\n",
      "\n",
      "No bounding box found at frame 111\n",
      "\n",
      "No bounding box found at frame 198\n",
      "\n",
      "No bounding box found at frame 358\n",
      "Fri Jun  9 14:07:07 2023 : /home/kyr/FF++/fake/FaceSwap/c23/videos/370_483.mp4             \n",
      "No bounding box found at frame 262\n",
      "\n",
      "No bounding box found at frame 263\n",
      "\n",
      "No bounding box found at frame 264\n",
      "\n",
      "No bounding box found at frame 265\n",
      "\n",
      "No bounding box found at frame 266\n",
      "Fri Jun  9 14:07:15 2023 : /home/kyr/FF++/fake/FaceSwap/c23/videos/419_824.mp4             \n",
      " * 1 Empty frames detected\n"
     ]
    },
    {
     "name": "stderr",
     "output_type": "stream",
     "text": [
      "mkdir: cannot create directory ‘/home/kyr/FF++_crop/fake/FaceSwap/troublesome/’: File exists\n"
     ]
    },
    {
     "name": "stdout",
     "output_type": "stream",
     "text": [
      "Fri Jun  9 14:07:30 2023 : /home/kyr/FF++/fake/FaceSwap/c23/videos/449_451.mp4             \n",
      "No bounding box found at frame 305\n",
      "Fri Jun  9 14:07:32 2023 : /home/kyr/FF++/fake/FaceSwap/c23/videos/451_449.mp4             \n",
      "No bounding box found at frame 305\n",
      "Fri Jun  9 14:07:34 2023 : /home/kyr/FF++/fake/FaceSwap/c23/videos/462_467.mp4             \n",
      "No bounding box found at frame 334\n",
      "\n",
      "No bounding box found at frame 335\n",
      "Fri Jun  9 14:07:35 2023 : /home/kyr/FF++/fake/FaceSwap/c23/videos/467_462.mp4             \n",
      "No bounding box found at frame 334\n",
      "\n",
      "No bounding box found at frame 335\n",
      "Fri Jun  9 14:07:36 2023 : /home/kyr/FF++/fake/FaceSwap/c23/videos/483_370.mp4             \n",
      "No bounding box found at frame 262\n",
      "\n",
      "No bounding box found at frame 263\n",
      "\n",
      "No bounding box found at frame 264\n",
      "\n",
      "No bounding box found at frame 265\n",
      "\n",
      "No bounding box found at frame 266\n",
      "Fri Jun  9 14:07:39 2023 : /home/kyr/FF++/fake/FaceSwap/c23/videos/492_325.mp4             \n",
      " * 3 Empty frames detected\n"
     ]
    },
    {
     "name": "stderr",
     "output_type": "stream",
     "text": [
      "mkdir: cannot create directory ‘/home/kyr/FF++_crop/fake/FaceSwap/troublesome/’: File exists\n"
     ]
    },
    {
     "name": "stdout",
     "output_type": "stream",
     "text": [
      "Fri Jun  9 14:07:48 2023 : /home/kyr/FF++/fake/FaceSwap/c23/videos/509_525.mp4             \n",
      "No bounding box found at frame 62\n",
      "\n",
      "No bounding box found at frame 63\n",
      "\n",
      "No bounding box found at frame 64\n",
      "\n",
      "No bounding box found at frame 65\n",
      "\n",
      "No bounding box found at frame 66\n",
      "\n",
      "No bounding box found at frame 67\n",
      "\n",
      "No bounding box found at frame 68\n",
      "\n",
      "No bounding box found at frame 69\n",
      "\n",
      "No bounding box found at frame 70\n",
      "\n",
      "No bounding box found at frame 71\n",
      "\n",
      "No bounding box found at frame 72\n",
      "\n",
      "No bounding box found at frame 73\n",
      "\n",
      "No bounding box found at frame 74\n",
      "\n",
      "No bounding box found at frame 75\n",
      "\n",
      "No bounding box found at frame 76\n",
      "\n",
      "No bounding box found at frame 77\n",
      "\n",
      "No bounding box found at frame 78\n",
      "\n",
      "No bounding box found at frame 79\n",
      "\n",
      "No bounding box found at frame 80\n",
      "\n",
      "No bounding box found at frame 81\n",
      "\n",
      "No bounding box found at frame 82\n",
      "\n",
      "No bounding box found at frame 83\n",
      "\n",
      "No bounding box found at frame 84\n",
      "\n",
      "No bounding box found at frame 85\n",
      "\n",
      "No bounding box found at frame 86\n",
      "\n",
      "No bounding box found at frame 87\n",
      "\n",
      "No bounding box found at frame 88\n",
      "\n",
      "No bounding box found at frame 89\n",
      "\n",
      "No bounding box found at frame 90\n",
      "\n",
      "No bounding box found at frame 91\n",
      "\n",
      "No bounding box found at frame 92\n",
      "\n",
      "No bounding box found at frame 93\n",
      "\n",
      "No bounding box found at frame 94\n",
      "\n",
      "No bounding box found at frame 95\n",
      "\n",
      "No bounding box found at frame 96\n",
      "\n",
      "No bounding box found at frame 97\n",
      "\n",
      "No bounding box found at frame 98\n",
      "\n",
      "No bounding box found at frame 99\n",
      "\n",
      "No bounding box found at frame 100\n",
      "\n",
      "No bounding box found at frame 101\n",
      "\n",
      "No bounding box found at frame 102\n",
      "\n",
      "No bounding box found at frame 103\n",
      "\n",
      "No bounding box found at frame 104\n",
      "\n",
      "No bounding box found at frame 105\n",
      "\n",
      "No bounding box found at frame 106\n",
      "\n",
      "No bounding box found at frame 107\n",
      "\n",
      "No bounding box found at frame 108\n",
      "\n",
      "No bounding box found at frame 109\n",
      "\n",
      "No bounding box found at frame 110\n",
      "\n",
      "No bounding box found at frame 111\n",
      "\n",
      "No bounding box found at frame 112\n",
      "\n",
      "No bounding box found at frame 113\n",
      "\n",
      "No bounding box found at frame 114\n",
      "\n",
      "No bounding box found at frame 115\n",
      "\n",
      "No bounding box found at frame 116\n",
      "\n",
      "No bounding box found at frame 117\n",
      "\n",
      "No bounding box found at frame 118\n",
      "\n",
      "No bounding box found at frame 119\n",
      "\n",
      "No bounding box found at frame 120\n",
      "\n",
      "No bounding box found at frame 121\n",
      "\n",
      "No bounding box found at frame 122\n",
      "\n",
      "No bounding box found at frame 123\n",
      "\n",
      "No bounding box found at frame 124\n",
      "\n",
      "No bounding box found at frame 125\n",
      "\n",
      "No bounding box found at frame 126\n",
      "\n",
      "No bounding box found at frame 127\n",
      "\n",
      "No bounding box found at frame 128\n",
      "\n",
      "No bounding box found at frame 129\n",
      "\n",
      "No bounding box found at frame 130\n",
      "\n",
      "No bounding box found at frame 131\n",
      "\n",
      "No bounding box found at frame 132\n",
      "\n",
      "No bounding box found at frame 133\n",
      "\n",
      "No bounding box found at frame 134\n",
      "\n",
      "No bounding box found at frame 135\n",
      "\n",
      "No bounding box found at frame 136\n",
      "\n",
      "No bounding box found at frame 137\n",
      "\n",
      "No bounding box found at frame 138\n",
      "\n",
      " * 2 Empty frames detected\n"
     ]
    },
    {
     "name": "stderr",
     "output_type": "stream",
     "text": [
      "mkdir: cannot create directory ‘/home/kyr/FF++_crop/fake/FaceSwap/troublesome/’: File exists\n"
     ]
    },
    {
     "name": "stdout",
     "output_type": "stream",
     "text": [
      "Fri Jun  9 14:07:50 2023 : /home/kyr/FF++/fake/FaceSwap/c23/videos/525_509.mp4             \n",
      "No bounding box found at frame 62\n",
      "\n",
      "No bounding box found at frame 63\n",
      "\n",
      "No bounding box found at frame 64\n",
      "\n",
      "No bounding box found at frame 65\n",
      "\n",
      "No bounding box found at frame 66\n",
      "\n",
      "No bounding box found at frame 67\n",
      "\n",
      "No bounding box found at frame 68\n",
      "\n",
      "No bounding box found at frame 69\n",
      "\n",
      "No bounding box found at frame 70\n",
      "\n",
      "No bounding box found at frame 71\n",
      "\n",
      "No bounding box found at frame 72\n",
      "\n",
      "No bounding box found at frame 73\n",
      "\n",
      "No bounding box found at frame 74\n",
      "\n",
      "No bounding box found at frame 75\n",
      "\n",
      "No bounding box found at frame 76\n",
      "\n",
      "No bounding box found at frame 77\n",
      "\n",
      "No bounding box found at frame 78\n",
      "\n",
      "No bounding box found at frame 79\n",
      "\n",
      "No bounding box found at frame 80\n",
      "\n",
      "No bounding box found at frame 81\n",
      "\n",
      "No bounding box found at frame 82\n",
      "\n",
      "No bounding box found at frame 83\n",
      "\n",
      "No bounding box found at frame 84\n",
      "\n",
      "No bounding box found at frame 85\n",
      "\n",
      "No bounding box found at frame 86\n",
      "\n",
      "No bounding box found at frame 87\n",
      "\n",
      "No bounding box found at frame 88\n",
      "\n",
      "No bounding box found at frame 89\n",
      "\n",
      "No bounding box found at frame 90\n",
      "\n",
      "No bounding box found at frame 91\n",
      "\n",
      "No bounding box found at frame 92\n",
      "\n",
      "No bounding box found at frame 93\n",
      "\n",
      "No bounding box found at frame 94\n",
      "\n",
      "No bounding box found at frame 95\n",
      "\n",
      "No bounding box found at frame 96\n",
      "\n",
      "No bounding box found at frame 97\n",
      "\n",
      "No bounding box found at frame 98\n",
      "\n",
      "No bounding box found at frame 99\n",
      "\n",
      "No bounding box found at frame 100\n",
      "\n",
      "No bounding box found at frame 101\n",
      "\n",
      "No bounding box found at frame 102\n",
      "\n",
      "No bounding box found at frame 103\n",
      "\n",
      "No bounding box found at frame 104\n",
      "\n",
      "No bounding box found at frame 105\n",
      "\n",
      "No bounding box found at frame 106\n",
      "\n",
      "No bounding box found at frame 107\n",
      "\n",
      "No bounding box found at frame 108\n",
      "\n",
      "No bounding box found at frame 109\n",
      "\n",
      "No bounding box found at frame 110\n",
      "\n",
      "No bounding box found at frame 111\n",
      "\n",
      "No bounding box found at frame 112\n",
      "\n",
      "No bounding box found at frame 113\n",
      "\n",
      "No bounding box found at frame 114\n",
      "\n",
      "No bounding box found at frame 115\n",
      "\n",
      "No bounding box found at frame 116\n",
      "\n",
      "No bounding box found at frame 117\n",
      "\n",
      "No bounding box found at frame 118\n",
      "\n",
      "No bounding box found at frame 119\n",
      "\n",
      "No bounding box found at frame 120\n",
      "\n",
      "No bounding box found at frame 121\n",
      "\n",
      "No bounding box found at frame 122\n",
      "\n",
      "No bounding box found at frame 123\n",
      "\n",
      "No bounding box found at frame 124\n",
      "\n",
      "No bounding box found at frame 125\n",
      "\n",
      "No bounding box found at frame 126\n",
      "\n",
      "No bounding box found at frame 127\n",
      "\n",
      "No bounding box found at frame 128\n",
      "\n",
      "No bounding box found at frame 129\n",
      "\n",
      "No bounding box found at frame 130\n",
      "\n",
      "No bounding box found at frame 131\n",
      "\n",
      "No bounding box found at frame 132\n",
      "\n",
      "No bounding box found at frame 133\n",
      "\n",
      "No bounding box found at frame 134\n",
      "\n",
      "No bounding box found at frame 135\n",
      "\n",
      "No bounding box found at frame 136\n",
      "\n",
      "No bounding box found at frame 137\n",
      "\n",
      "No bounding box found at frame 138\n",
      "Fri Jun  9 14:07:52 2023 : /home/kyr/FF++/fake/FaceSwap/c23/videos/547_574.mp4             \n",
      "No bounding box found at frame 257\n",
      "\n",
      "No bounding box found at frame 259\n",
      "\n",
      "No bounding box found at frame 260\n",
      "Fri Jun  9 14:07:57 2023 : /home/kyr/FF++/fake/FaceSwap/c23/videos/574_547.mp4             \n",
      "No bounding box found at frame 257\n",
      "\n",
      "No bounding box found at frame 259\n",
      "\n",
      "No bounding box found at frame 260\n",
      "Fri Jun  9 14:07:59 2023 : /home/kyr/FF++/fake/FaceSwap/c23/videos/576_155.mp4             \n",
      "No bounding box found at frame 167\n",
      "\n",
      "No bounding box found at frame 168\n",
      "\n",
      "No bounding box found at frame 418\n",
      "\n",
      "No bounding box found at frame 439\n",
      "\n",
      "No bounding box found at frame 440\n",
      "\n",
      "No bounding box found at frame 441\n",
      "\n",
      "No bounding box found at frame 442\n",
      "\n",
      "No bounding box found at frame 443\n",
      "\n",
      "No bounding box found at frame 445\n",
      "Fri Jun  9 14:08:01 2023 : /home/kyr/FF++/fake/FaceSwap/c23/videos/601_653.mp4             \n",
      "No bounding box found at frame 174\n",
      "\n",
      "No bounding box found at frame 175\n",
      "\n",
      "No bounding box found at frame 176\n",
      "\n",
      "No bounding box found at frame 177\n",
      "\n",
      "No bounding box found at frame 178\n",
      "\n",
      "No bounding box found at frame 180\n",
      "\n",
      "No bounding box found at frame 182\n",
      "\n",
      "No bounding box found at frame 184\n",
      "\n",
      "No bounding box found at frame 185\n",
      "\n",
      "No bounding box found at frame 186\n",
      "\n",
      "No bounding box found at frame 352\n",
      "Fri Jun  9 14:08:03 2023 : /home/kyr/FF++/fake/FaceSwap/c23/videos/618_629.mp4             \n",
      "No bounding box found at frame 323\n",
      "\n",
      "No bounding box found at frame 324\n",
      "\n",
      "No bounding box found at frame 325\n",
      "\n",
      "No bounding box found at frame 326\n",
      "Fri Jun  9 14:08:05 2023 : /home/kyr/FF++/fake/FaceSwap/c23/videos/629_618.mp4             \n",
      "No bounding box found at frame 323\n",
      "\n",
      "No bounding box found at frame 324\n",
      "\n",
      "No bounding box found at frame 325\n",
      "\n",
      "No bounding box found at frame 326\n",
      "Fri Jun  9 14:08:07 2023 : /home/kyr/FF++/fake/FaceSwap/c23/videos/644_657.mp4             \n",
      "No bounding box found at frame 412\n",
      "Fri Jun  9 14:08:09 2023 : /home/kyr/FF++/fake/FaceSwap/c23/videos/653_601.mp4             \n",
      "No bounding box found at frame 174\n",
      "\n",
      "No bounding box found at frame 175\n",
      "\n",
      "No bounding box found at frame 176\n",
      "\n",
      "No bounding box found at frame 177\n",
      "\n",
      "No bounding box found at frame 178\n",
      "\n",
      "No bounding box found at frame 180\n",
      "\n",
      "No bounding box found at frame 182\n",
      "\n",
      "No bounding box found at frame 184\n",
      "\n",
      "No bounding box found at frame 185\n",
      "\n",
      "No bounding box found at frame 186\n",
      "\n",
      "No bounding box found at frame 352\n",
      "Fri Jun  9 14:08:10 2023 : /home/kyr/FF++/fake/FaceSwap/c23/videos/657_644.mp4             \n",
      "No bounding box found at frame 412\n",
      "Fri Jun  9 14:08:11 2023 : /home/kyr/FF++/fake/FaceSwap/c23/videos/665_679.mp4             \n",
      "No bounding box found at frame 138\n",
      "\n",
      "No bounding box found at frame 139\n",
      "\n",
      "No bounding box found at frame 155\n",
      "Fri Jun  9 14:08:12 2023 : /home/kyr/FF++/fake/FaceSwap/c23/videos/672_720.mp4             \n",
      "No bounding box found at frame 535\n",
      "Fri Jun  9 14:08:15 2023 : /home/kyr/FF++/fake/FaceSwap/c23/videos/679_665.mp4             \n",
      "No bounding box found at frame 138\n",
      "\n",
      "No bounding box found at frame 139\n",
      "\n",
      "No bounding box found at frame 155\n",
      "Fri Jun  9 14:08:16 2023 : /home/kyr/FF++/fake/FaceSwap/c23/videos/703_604.mp4             \n",
      " * 23 Empty frames detected\n"
     ]
    },
    {
     "name": "stderr",
     "output_type": "stream",
     "text": [
      "mkdir: cannot create directory ‘/home/kyr/FF++_crop/fake/FaceSwap/troublesome/’: File exists\n"
     ]
    },
    {
     "name": "stdout",
     "output_type": "stream",
     "text": [
      "Fri Jun  9 14:08:19 2023 : /home/kyr/FF++/fake/FaceSwap/c23/videos/704_723.mp4             \n",
      "No bounding box found at frame 374\n",
      "\n",
      "No bounding box found at frame 380\n",
      "\n",
      "No bounding box found at frame 381\n",
      "\n",
      "No bounding box found at frame 382\n",
      "\n",
      "No bounding box found at frame 391\n",
      "\n",
      "No bounding box found at frame 411\n",
      "\n",
      "No bounding box found at frame 412\n",
      "\n",
      "No bounding box found at frame 413\n",
      "Fri Jun  9 14:08:20 2023 : /home/kyr/FF++/fake/FaceSwap/c23/videos/720_672.mp4             \n",
      "No bounding box found at frame 535\n",
      "Fri Jun  9 14:08:22 2023 : /home/kyr/FF++/fake/FaceSwap/c23/videos/723_704.mp4             \n",
      "No bounding box found at frame 374\n",
      "\n",
      "No bounding box found at frame 380\n",
      "\n",
      "No bounding box found at frame 381\n",
      "\n",
      "No bounding box found at frame 382\n",
      "\n",
      "No bounding box found at frame 391\n",
      "\n",
      "No bounding box found at frame 411\n",
      "\n",
      "No bounding box found at frame 412\n",
      "\n",
      "No bounding box found at frame 413\n",
      "Fri Jun  9 14:08:24 2023 : /home/kyr/FF++/fake/FaceSwap/c23/videos/738_804.mp4             \n",
      "No bounding box found at frame 301\n",
      "\n",
      "No bounding box found at frame 302\n",
      "\n",
      "No bounding box found at frame 303\n",
      "\n",
      "No bounding box found at frame 304\n",
      "\n",
      "No bounding box found at frame 305\n",
      "\n",
      "No bounding box found at frame 306\n",
      "\n",
      "No bounding box found at frame 307\n",
      "\n",
      "No bounding box found at frame 308\n",
      "\n",
      "No bounding box found at frame 309\n",
      "\n",
      "No bounding box found at frame 310\n",
      "\n",
      "No bounding box found at frame 311\n",
      "\n",
      "No bounding box found at frame 312\n",
      "\n",
      "No bounding box found at frame 313\n",
      "\n",
      "No bounding box found at frame 314\n",
      "\n",
      "No bounding box found at frame 315\n",
      "\n",
      "No bounding box found at frame 316\n",
      "\n",
      "No bounding box found at frame 317\n",
      "\n",
      "No bounding box found at frame 318\n",
      "\n",
      "No bounding box found at frame 319\n",
      "\n",
      "No bounding box found at frame 320\n",
      "\n",
      "No bounding box found at frame 321\n",
      "\n",
      "No bounding box found at frame 322\n",
      "\n",
      "No bounding box found at frame 323\n",
      "\n",
      "No bounding box found at frame 324\n",
      "\n",
      "No bounding box found at frame 325\n",
      "\n",
      "No bounding box found at frame 326\n",
      "\n",
      "No bounding box found at frame 327\n",
      "\n",
      "No bounding box found at frame 328\n",
      "\n",
      "No bounding box found at frame 329\n",
      "\n",
      "No bounding box found at frame 330\n",
      "\n",
      "No bounding box found at frame 331\n",
      "\n",
      "No bounding box found at frame 332\n",
      "\n",
      "No bounding box found at frame 333\n",
      "\n",
      "No bounding box found at frame 334\n",
      "\n",
      "No bounding box found at frame 335\n",
      "\n",
      "No bounding box found at frame 336\n",
      "\n",
      "No bounding box found at frame 337\n",
      "\n",
      "No bounding box found at frame 338\n",
      "\n",
      "No bounding box found at frame 339\n",
      "\n",
      "No bounding box found at frame 340\n",
      "\n",
      "No bounding box found at frame 341\n",
      "\n",
      "No bounding box found at frame 342\n",
      "\n",
      "No bounding box found at frame 343\n",
      "\n",
      "No bounding box found at frame 344\n",
      "\n",
      "No bounding box found at frame 345\n",
      "\n",
      "No bounding box found at frame 346\n",
      "\n",
      "No bounding box found at frame 347\n",
      "\n",
      "No bounding box found at frame 348\n",
      "\n",
      "No bounding box found at frame 349\n",
      "\n",
      "No bounding box found at frame 350\n",
      "\n",
      "No bounding box found at frame 351\n",
      "\n",
      "No bounding box found at frame 352\n",
      "\n",
      "No bounding box found at frame 353\n",
      "\n",
      "No bounding box found at frame 354\n",
      "\n",
      "No bounding box found at frame 355\n",
      "\n",
      "No bounding box found at frame 356\n",
      "\n",
      "No bounding box found at frame 357\n",
      "\n",
      "No bounding box found at frame 358\n",
      "Fri Jun  9 14:08:27 2023 : /home/kyr/FF++/fake/FaceSwap/c23/videos/764_850.mp4             \n",
      "No bounding box found at frame 95\n",
      "\n",
      "No bounding box found at frame 96\n",
      "\n",
      "No bounding box found at frame 97\n",
      "\n",
      "No bounding box found at frame 98\n",
      "\n",
      "No bounding box found at frame 99\n",
      "\n",
      "No bounding box found at frame 100\n",
      "Fri Jun  9 14:08:31 2023 : /home/kyr/FF++/fake/FaceSwap/c23/videos/804_738.mp4             \n",
      "No bounding box found at frame 301\n",
      "\n",
      "No bounding box found at frame 302\n",
      "\n",
      "No bounding box found at frame 303\n",
      "\n",
      "No bounding box found at frame 304\n",
      "\n",
      "No bounding box found at frame 305\n",
      "\n",
      "No bounding box found at frame 306\n",
      "\n",
      "No bounding box found at frame 307\n",
      "\n",
      "No bounding box found at frame 308\n",
      "\n",
      "No bounding box found at frame 309\n",
      "\n",
      "No bounding box found at frame 310\n",
      "\n",
      "No bounding box found at frame 311\n",
      "\n",
      "No bounding box found at frame 312\n",
      "\n",
      "No bounding box found at frame 313\n",
      "\n",
      "No bounding box found at frame 314\n",
      "\n",
      "No bounding box found at frame 315\n",
      "\n",
      "No bounding box found at frame 316\n",
      "\n",
      "No bounding box found at frame 317\n",
      "\n",
      "No bounding box found at frame 318\n",
      "\n",
      "No bounding box found at frame 319\n",
      "\n",
      "No bounding box found at frame 320\n",
      "\n",
      "No bounding box found at frame 321\n",
      "\n",
      "No bounding box found at frame 322\n",
      "\n",
      "No bounding box found at frame 323\n",
      "\n",
      "No bounding box found at frame 324\n",
      "\n",
      "No bounding box found at frame 325\n",
      "\n",
      "No bounding box found at frame 326\n",
      "\n",
      "No bounding box found at frame 327\n",
      "\n",
      "No bounding box found at frame 328\n",
      "\n",
      "No bounding box found at frame 329\n",
      "\n",
      "No bounding box found at frame 330\n",
      "\n",
      "No bounding box found at frame 331\n",
      "\n",
      "No bounding box found at frame 332\n",
      "\n",
      "No bounding box found at frame 333\n",
      "\n",
      "No bounding box found at frame 334\n",
      "\n",
      "No bounding box found at frame 335\n",
      "\n",
      "No bounding box found at frame 336\n",
      "\n",
      "No bounding box found at frame 337\n",
      "\n",
      "No bounding box found at frame 338\n",
      "\n",
      "No bounding box found at frame 339\n",
      "\n",
      "No bounding box found at frame 340\n",
      "\n",
      "No bounding box found at frame 341\n",
      "\n",
      "No bounding box found at frame 342\n",
      "\n",
      "No bounding box found at frame 343\n",
      "\n",
      "No bounding box found at frame 344\n",
      "\n",
      "No bounding box found at frame 345\n",
      "\n",
      "No bounding box found at frame 346\n",
      "\n",
      "No bounding box found at frame 347\n",
      "\n",
      "No bounding box found at frame 348\n",
      "\n",
      "No bounding box found at frame 349\n",
      "\n",
      "No bounding box found at frame 350\n",
      "\n",
      "No bounding box found at frame 351\n",
      "\n",
      "No bounding box found at frame 352\n",
      "\n",
      "No bounding box found at frame 353\n",
      "\n",
      "No bounding box found at frame 354\n",
      "\n",
      "No bounding box found at frame 355\n",
      "\n",
      "No bounding box found at frame 356\n",
      "\n",
      "No bounding box found at frame 357\n",
      "\n",
      "No bounding box found at frame 358\n",
      "Fri Jun  9 14:08:32 2023 : /home/kyr/FF++/fake/FaceSwap/c23/videos/805_011.mp4             \n",
      "No bounding box found at frame 319\n",
      "Fri Jun  9 14:08:35 2023 : /home/kyr/FF++/fake/FaceSwap/c23/videos/824_419.mp4             \n",
      " * 3 Empty frames detected\n"
     ]
    },
    {
     "name": "stderr",
     "output_type": "stream",
     "text": [
      "mkdir: cannot create directory ‘/home/kyr/FF++_crop/fake/FaceSwap/troublesome/’: File exists\n"
     ]
    },
    {
     "name": "stdout",
     "output_type": "stream",
     "text": [
      "Fri Jun  9 14:08:38 2023 : /home/kyr/FF++/fake/FaceSwap/c23/videos/850_764.mp4             \n",
      "No bounding box found at frame 95\n",
      "\n",
      "No bounding box found at frame 96\n",
      "\n",
      "No bounding box found at frame 97\n",
      "\n",
      "No bounding box found at frame 98\n",
      "\n",
      "No bounding box found at frame 99\n",
      "\n",
      "No bounding box found at frame 100\n",
      "Fri Jun  9 14:08:40 2023 : /home/kyr/FF++/fake/FaceSwap/c23/videos/860_905.mp4             \n",
      "No bounding box found at frame 107\n",
      "\n",
      "No bounding box found at frame 108\n",
      "Fri Jun  9 14:08:44 2023 : /home/kyr/FF++/fake/FaceSwap/c23/videos/876_891.mp4             \n",
      "No bounding box found at frame 282\n",
      "\n",
      "No bounding box found at frame 283\n",
      "\n",
      "No bounding box found at frame 284\n",
      "\n",
      "No bounding box found at frame 288\n",
      "Fri Jun  9 14:08:46 2023 : /home/kyr/FF++/fake/FaceSwap/c23/videos/880_135.mp4             \n",
      "No bounding box found at frame 94\n",
      "\n",
      "No bounding box found at frame 95\n",
      "\n",
      "No bounding box found at frame 178\n",
      "\n",
      "No bounding box found at frame 179\n",
      "\n",
      "No bounding box found at frame 197\n",
      "\n",
      "No bounding box found at frame 223\n",
      "Fri Jun  9 14:08:50 2023 : /home/kyr/FF++/fake/FaceSwap/c23/videos/891_876.mp4             \n",
      "No bounding box found at frame 282\n",
      "\n",
      "No bounding box found at frame 283\n",
      "\n",
      "No bounding box found at frame 284\n",
      "\n",
      "No bounding box found at frame 288\n",
      "Fri Jun  9 14:08:52 2023 : /home/kyr/FF++/fake/FaceSwap/c23/videos/896_128.mp4             \n",
      "No bounding box found at frame 441\n",
      "\n",
      "No bounding box found at frame 442\n",
      "Fri Jun  9 14:08:53 2023 : /home/kyr/FF++/fake/FaceSwap/c23/videos/905_860.mp4             \n",
      "No bounding box found at frame 107\n",
      "\n",
      "No bounding box found at frame 108\n",
      "Fri Jun  9 14:08:56 2023 : /home/kyr/FF++/fake/NeuralTextures/c23/videos/024_073.mp4             \n",
      " * 2 Empty frames detected\n"
     ]
    },
    {
     "name": "stderr",
     "output_type": "stream",
     "text": [
      "mkdir: cannot create directory ‘/home/kyr/FF++_crop/fake/NeuralTextures/troublesome/’: File exists\n"
     ]
    },
    {
     "name": "stdout",
     "output_type": "stream",
     "text": [
      "Fri Jun  9 14:08:58 2023 : /home/kyr/FF++/fake/NeuralTextures/c23/videos/115_939.mp4             \n",
      " * 320 Empty frames detected\n",
      " >> Too few frames left, deleted\n"
     ]
    },
    {
     "name": "stderr",
     "output_type": "stream",
     "text": [
      "mkdir: cannot create directory ‘/home/kyr/FF++_crop/fake/NeuralTextures/abandoned/’: File exists\n"
     ]
    },
    {
     "name": "stdout",
     "output_type": "stream",
     "text": [
      "Fri Jun  9 14:09:01 2023 : /home/kyr/FF++/fake/NeuralTextures/c23/videos/170_186.mp4             \n",
      " * 15 Empty frames detected\n"
     ]
    },
    {
     "name": "stderr",
     "output_type": "stream",
     "text": [
      "mkdir: cannot create directory ‘/home/kyr/FF++_crop/fake/NeuralTextures/troublesome/’: File exists\n"
     ]
    },
    {
     "name": "stdout",
     "output_type": "stream",
     "text": [
      "Fri Jun  9 14:09:07 2023 : /home/kyr/FF++/fake/NeuralTextures/c23/videos/175_159.mp4             \n",
      " * 4 Empty frames detected\n"
     ]
    },
    {
     "name": "stderr",
     "output_type": "stream",
     "text": [
      "mkdir: cannot create directory ‘/home/kyr/FF++_crop/fake/NeuralTextures/troublesome/’: File exists\n"
     ]
    },
    {
     "name": "stdout",
     "output_type": "stream",
     "text": [
      "Fri Jun  9 14:09:08 2023 : /home/kyr/FF++/fake/NeuralTextures/c23/videos/212_179.mp4             \n",
      " * 2 Empty frames detected\n"
     ]
    },
    {
     "name": "stderr",
     "output_type": "stream",
     "text": [
      "mkdir: cannot create directory ‘/home/kyr/FF++_crop/fake/NeuralTextures/troublesome/’: File exists\n"
     ]
    },
    {
     "name": "stdout",
     "output_type": "stream",
     "text": [
      "Fri Jun  9 14:09:10 2023 : /home/kyr/FF++/fake/NeuralTextures/c23/videos/227_169.mp4             \n",
      " * 441 Empty frames detected\n",
      " >> Too few frames left, deleted\n"
     ]
    },
    {
     "name": "stderr",
     "output_type": "stream",
     "text": [
      "mkdir: cannot create directory ‘/home/kyr/FF++_crop/fake/NeuralTextures/abandoned/’: File exists\n"
     ]
    },
    {
     "name": "stdout",
     "output_type": "stream",
     "text": [
      "Fri Jun  9 14:09:15 2023 : /home/kyr/FF++/fake/NeuralTextures/c23/videos/370_483.mp4             \n",
      " * 7 Empty frames detected\n"
     ]
    },
    {
     "name": "stderr",
     "output_type": "stream",
     "text": [
      "mkdir: cannot create directory ‘/home/kyr/FF++_crop/fake/NeuralTextures/troublesome/’: File exists\n"
     ]
    },
    {
     "name": "stdout",
     "output_type": "stream",
     "text": [
      "Fri Jun  9 14:09:41 2023 : /home/kyr/FF++/fake/NeuralTextures/c23/videos/509_525.mp4             \n",
      " * 115 Empty frames detected\n"
     ]
    },
    {
     "name": "stderr",
     "output_type": "stream",
     "text": [
      "mkdir: cannot create directory ‘/home/kyr/FF++_crop/fake/NeuralTextures/troublesome/’: File exists\n"
     ]
    },
    {
     "name": "stdout",
     "output_type": "stream",
     "text": [
      "Fri Jun  9 14:09:43 2023 : /home/kyr/FF++/fake/NeuralTextures/c23/videos/603_575.mp4             \n",
      " * 1 Empty frames detected\n"
     ]
    },
    {
     "name": "stderr",
     "output_type": "stream",
     "text": [
      "mkdir: cannot create directory ‘/home/kyr/FF++_crop/fake/NeuralTextures/troublesome/’: File exists\n"
     ]
    },
    {
     "name": "stdout",
     "output_type": "stream",
     "text": [
      "Fri Jun  9 14:09:47 2023 : /home/kyr/FF++/fake/NeuralTextures/c23/videos/618_629.mp4             \n",
      " * 34 Empty frames detected\n"
     ]
    },
    {
     "name": "stderr",
     "output_type": "stream",
     "text": [
      "mkdir: cannot create directory ‘/home/kyr/FF++_crop/fake/NeuralTextures/troublesome/’: File exists\n"
     ]
    },
    {
     "name": "stdout",
     "output_type": "stream",
     "text": [
      "Fri Jun  9 14:09:59 2023 : /home/kyr/FF++/fake/NeuralTextures/c23/videos/629_618.mp4             \n",
      "No bounding box found at frame 323\n",
      "\n",
      "No bounding box found at frame 324\n",
      "\n",
      "No bounding box found at frame 325\n",
      "\n",
      "No bounding box found at frame 326\n",
      "\n",
      " * 1 Empty frames detected\n"
     ]
    },
    {
     "name": "stderr",
     "output_type": "stream",
     "text": [
      "mkdir: cannot create directory ‘/home/kyr/FF++_crop/fake/NeuralTextures/troublesome/’: File exists\n"
     ]
    },
    {
     "name": "stdout",
     "output_type": "stream",
     "text": [
      "Fri Jun  9 14:10:03 2023 : /home/kyr/FF++/fake/NeuralTextures/c23/videos/738_804.mp4             \n",
      " * 58 Empty frames detected\n"
     ]
    },
    {
     "name": "stderr",
     "output_type": "stream",
     "text": [
      "mkdir: cannot create directory ‘/home/kyr/FF++_crop/fake/NeuralTextures/troublesome/’: File exists\n"
     ]
    },
    {
     "name": "stdout",
     "output_type": "stream",
     "text": [
      "Fri Jun  9 14:10:07 2023 : /home/kyr/FF++/fake/NeuralTextures/c23/videos/850_764.mp4             \n",
      " * 3 Empty frames detected\n"
     ]
    },
    {
     "name": "stderr",
     "output_type": "stream",
     "text": [
      "mkdir: cannot create directory ‘/home/kyr/FF++_crop/fake/NeuralTextures/troublesome/’: File exists\n"
     ]
    },
    {
     "ename": "NameError",
     "evalue": "name 'realDir' is not defined",
     "output_type": "error",
     "traceback": [
      "\u001b[0;31m---------------------------------------------------------------------------\u001b[0m",
      "\u001b[0;31mNameError\u001b[0m                                 Traceback (most recent call last)",
      "\u001b[0;32m/tmp/ipykernel_1977094/1817023930.py\u001b[0m in \u001b[0;36m<module>\u001b[0;34m\u001b[0m\n\u001b[1;32m     37\u001b[0m         \u001b[0;32mexcept\u001b[0m\u001b[0;34m:\u001b[0m\u001b[0;34m\u001b[0m\u001b[0;34m\u001b[0m\u001b[0m\n\u001b[1;32m     38\u001b[0m             \u001b[0mprint\u001b[0m\u001b[0;34m(\u001b[0m\u001b[0;34m\"\\n>>>>>>>>>> ERROR OCCURED <<<<<<<<<<\"\u001b[0m\u001b[0;34m)\u001b[0m\u001b[0;34m\u001b[0m\u001b[0;34m\u001b[0m\u001b[0m\n\u001b[0;32m---> 39\u001b[0;31m \u001b[0mdataDir\u001b[0m \u001b[0;34m=\u001b[0m \u001b[0mrealDir\u001b[0m\u001b[0;34m\u001b[0m\u001b[0;34m\u001b[0m\u001b[0m\n\u001b[0m\u001b[1;32m     40\u001b[0m \u001b[0mmaskDir\u001b[0m \u001b[0;34m=\u001b[0m \u001b[0mdataDirs\u001b[0m\u001b[0;34m[\u001b[0m\u001b[0;36m0\u001b[0m\u001b[0;34m]\u001b[0m\u001b[0;34m.\u001b[0m\u001b[0mreplace\u001b[0m\u001b[0;34m(\u001b[0m\u001b[0;34m'c23'\u001b[0m\u001b[0;34m,\u001b[0m \u001b[0;34m'masks'\u001b[0m\u001b[0;34m)\u001b[0m \u001b[0;31m# Real videos can share the same masks with Deepfakes\u001b[0m\u001b[0;34m\u001b[0m\u001b[0;34m\u001b[0m\u001b[0m\n\u001b[1;32m     41\u001b[0m \u001b[0msaveDir\u001b[0m \u001b[0;34m=\u001b[0m \u001b[0mrealDir\u001b[0m\u001b[0;34m.\u001b[0m\u001b[0mreplace\u001b[0m\u001b[0;34m(\u001b[0m\u001b[0;34m'FF++'\u001b[0m\u001b[0;34m,\u001b[0m \u001b[0;34m'FF++_crop'\u001b[0m\u001b[0;34m)\u001b[0m\u001b[0;34m.\u001b[0m\u001b[0mreplace\u001b[0m\u001b[0;34m(\u001b[0m\u001b[0;34m'/c23/videos'\u001b[0m\u001b[0;34m,\u001b[0m \u001b[0;34m''\u001b[0m\u001b[0;34m)\u001b[0m\u001b[0;34m\u001b[0m\u001b[0;34m\u001b[0m\u001b[0m\n",
      "\u001b[0;31mNameError\u001b[0m: name 'realDir' is not defined"
     ]
    }
   ],
   "source": [
    "dataDirs = [\n",
    "    rootDir + 'FF++/fake/Deepfakes/c23/videos/',\n",
    "    rootDir + 'FF++/fake/Face2Face/c23/videos/',\n",
    "    rootDir + 'FF++/fake/FaceSwap/c23/videos/',\n",
    "    rootDir + 'FF++/fake/NeuralTextures/c23/videos/',\n",
    "]\n",
    "detector = RetinaFace(gpu_id=0)\n",
    "paddings = [17, 10, 10, 10] # Number of pixels to pad on each manipulating method\n",
    "center_tweaks = [(0,0),(0,0),(0,10),(0,-5)] # (x,y) tweaks to the center of the face corresponding to the methods\n",
    "smooth_levels = [5, 3, 3, 3] # Level of smoothing to apply to the mask corresponding to the methods\n",
    "for dataDir, padding, center_tweak, smooth_level in zip(dataDirs, paddings, center_tweaks, smooth_levels):\n",
    "    maskDir = dataDir.replace('c23', 'masks')\n",
    "    saveDir = dataDir.replace('FF++', 'FF++_crop').replace('/c23/videos', '')\n",
    "    vidDirs = ls(dataDir)\n",
    "    savedList = ls(saveDir)\n",
    "    for vidDir in vidDirs:\n",
    "        if vidDir in savedList:\n",
    "            saved = cv2.VideoCapture(saveDir + vidDir)\n",
    "            saved_frame_count = int(saved.get(cv2.CAP_PROP_FRAME_COUNT))\n",
    "            saved.release()\n",
    "            original = cv2.VideoCapture(dataDir + vidDir)\n",
    "            original_frame_count = int(original.get(cv2.CAP_PROP_FRAME_COUNT))\n",
    "            original.release()\n",
    "            if saved_frame_count == original_frame_count:\n",
    "                continue\n",
    "        print('\\r' + time.ctime(time.time()), ':', dataDir + vidDir + '             ', end='')\n",
    "        try:\n",
    "            extract(\n",
    "                maskDir + vidDir,\n",
    "                dataDir + vidDir,\n",
    "                saveDir + vidDir,\n",
    "                padding,\n",
    "                center_tweak,\n",
    "                smooth_level\n",
    "            )\n",
    "            detect(detector, saveDir + vidDir)\n",
    "        except:\n",
    "            print(\"\\n>>>>>>>>>> ERROR OCCURED <<<<<<<<<<\")\n",
    "realDir = rootDir + 'FF++/real/c23/videos/'\n",
    "dataDir = realDir\n",
    "maskDir = dataDirs[0].replace('c23', 'masks') # Real videos can share the same masks with Deepfakes\n",
    "saveDir = realDir.replace('FF++', 'FF++_crop').replace('/c23/videos', '')\n",
    "vidDirs = ls(dataDir)\n",
    "savedList = ls(saveDir)\n",
    "maskVidDirs = ls(maskDir)\n",
    "for vidDir, maskVidDir in zip(vidDirs, maskVidDirs):\n",
    "    if vidDir in savedList:\n",
    "        saved = cv2.VideoCapture(saveDir + vidDir)\n",
    "        saved_frame_count = int(saved.get(cv2.CAP_PROP_FRAME_COUNT))\n",
    "        saved.release()\n",
    "        original = cv2.VideoCapture(dataDir + vidDir)\n",
    "        original_frame_count = int(original.get(cv2.CAP_PROP_FRAME_COUNT))\n",
    "        original.release()\n",
    "        if saved_frame_count == original_frame_count:\n",
    "            continue\n",
    "    print('\\r' + time.ctime(time.time()), ':', dataDir + vidDir + '             ', end='')\n",
    "    try:\n",
    "        extract(\n",
    "            maskDir + maskVidDir,\n",
    "            dataDir + vidDir,\n",
    "            saveDir + vidDir,\n",
    "            paddings[0],\n",
    "            center_tweaks[0],\n",
    "            smooth_levels[0]\n",
    "        )\n",
    "        detect(detector, saveDir + vidDir)\n",
    "    except:\n",
    "        print(\"\\n>>>>>>>>>> ERROR OCCURED <<<<<<<<<<\")"
   ]
  },
  {
   "cell_type": "code",
   "execution_count": 6,
   "id": "ce1714e0",
   "metadata": {
    "scrolled": true
   },
   "outputs": [
    {
     "name": "stdout",
     "output_type": "stream",
     "text": [
      "Fri Jun  9 14:12:13 2023 : /home/kyr/FF++/real/c23/videos/024.mp4             \n",
      "No bounding box found at frame 225\n",
      "\n",
      "No bounding box found at frame 226\n",
      "Fri Jun  9 14:12:36 2023 : /home/kyr/FF++/real/c23/videos/105.mp4             \n",
      " * 1 Empty frames detected\n",
      "Fri Jun  9 14:12:37 2023 : /home/kyr/FF++/real/c23/videos/113.mp4             "
     ]
    },
    {
     "name": "stderr",
     "output_type": "stream",
     "text": [
      "mkdir: cannot create directory ‘/home/kyr/FF++_crop/real/troublesome/’: File exists\n"
     ]
    },
    {
     "name": "stdout",
     "output_type": "stream",
     "text": [
      "Fri Jun  9 14:13:03 2023 : /home/kyr/FF++/real/c23/videos/158.mp4             \n",
      " * 23 Empty frames detected\n",
      "Fri Jun  9 14:13:05 2023 : /home/kyr/FF++/real/c23/videos/164.mp4             "
     ]
    },
    {
     "name": "stderr",
     "output_type": "stream",
     "text": [
      "mkdir: cannot create directory ‘/home/kyr/FF++_crop/real/troublesome/’: File exists\n"
     ]
    },
    {
     "name": "stdout",
     "output_type": "stream",
     "text": [
      "Fri Jun  9 14:13:37 2023 : /home/kyr/FF++/real/c23/videos/212.mp4             \n",
      " * 2 Empty frames detected\n"
     ]
    },
    {
     "name": "stderr",
     "output_type": "stream",
     "text": [
      "mkdir: cannot create directory ‘/home/kyr/FF++_crop/real/troublesome/’: File exists\n"
     ]
    },
    {
     "name": "stdout",
     "output_type": "stream",
     "text": [
      "Fri Jun  9 14:14:26 2023 : /home/kyr/FF++/real/c23/videos/340.mp4             \n",
      " * 1 Empty frames detected\n"
     ]
    },
    {
     "name": "stderr",
     "output_type": "stream",
     "text": [
      "mkdir: cannot create directory ‘/home/kyr/FF++_crop/real/troublesome/’: File exists\n"
     ]
    },
    {
     "name": "stdout",
     "output_type": "stream",
     "text": [
      "Fri Jun  9 14:14:35 2023 : /home/kyr/FF++/real/c23/videos/370.mp4             \n",
      "No bounding box found at frame 262\n",
      "\n",
      "No bounding box found at frame 263\n",
      "\n",
      "No bounding box found at frame 264\n",
      "\n",
      "No bounding box found at frame 265\n",
      "\n",
      "No bounding box found at frame 266\n",
      "Fri Jun  9 14:14:52 2023 : /home/kyr/FF++/real/c23/videos/399.mp4             \n",
      " * 3 Empty frames detected\n"
     ]
    },
    {
     "name": "stderr",
     "output_type": "stream",
     "text": [
      "mkdir: cannot create directory ‘/home/kyr/FF++_crop/real/troublesome/’: File exists\n"
     ]
    },
    {
     "name": "stdout",
     "output_type": "stream",
     "text": [
      "Fri Jun  9 14:15:20 2023 : /home/kyr/FF++/real/c23/videos/449.mp4             \n",
      " * 1 Empty frames detected\n"
     ]
    },
    {
     "name": "stderr",
     "output_type": "stream",
     "text": [
      "mkdir: cannot create directory ‘/home/kyr/FF++_crop/real/troublesome/’: File exists\n"
     ]
    },
    {
     "name": "stdout",
     "output_type": "stream",
     "text": [
      "Fri Jun  9 14:15:37 2023 : /home/kyr/FF++/real/c23/videos/509.mp4             \n",
      " * 96 Empty frames detected\n",
      "Fri Jun  9 14:15:38 2023 : /home/kyr/FF++/real/c23/videos/511.mp4             "
     ]
    },
    {
     "name": "stderr",
     "output_type": "stream",
     "text": [
      "mkdir: cannot create directory ‘/home/kyr/FF++_crop/real/troublesome/’: File exists\n"
     ]
    },
    {
     "name": "stdout",
     "output_type": "stream",
     "text": [
      "Fri Jun  9 14:16:09 2023 : /home/kyr/FF++/real/c23/videos/629.mp4             \n",
      "No bounding box found at frame 323\n",
      "\n",
      "No bounding box found at frame 324\n",
      "\n",
      "No bounding box found at frame 325\n",
      "\n",
      "No bounding box found at frame 326\n",
      "Fri Jun  9 14:16:42 2023 : /home/kyr/FF++/real/c23/videos/738.mp4             \n",
      " * 5 Empty frames detected\n"
     ]
    },
    {
     "name": "stderr",
     "output_type": "stream",
     "text": [
      "mkdir: cannot create directory ‘/home/kyr/FF++_crop/real/troublesome/’: File exists\n"
     ]
    },
    {
     "name": "stdout",
     "output_type": "stream",
     "text": [
      "Fri Jun  9 14:17:39 2023 : /home/kyr/FF++/real/c23/videos/850.mp4             \n",
      "No bounding box found at frame 96\n",
      "\n",
      "No bounding box found at frame 97\n",
      "\n",
      "No bounding box found at frame 98\n",
      "Fri Jun  9 14:18:07 2023 : /home/kyr/FF++/real/c23/videos/950.mp4             \n",
      "No bounding box found at frame 727\n",
      "\n",
      "No bounding box found at frame 728\n",
      "\n",
      "No bounding box found at frame 729\n",
      "\n",
      "No bounding box found at frame 730\n",
      "\n",
      "No bounding box found at frame 731\n",
      "\n",
      " * 4 Empty frames detected\n"
     ]
    },
    {
     "name": "stderr",
     "output_type": "stream",
     "text": [
      "mkdir: cannot create directory ‘/home/kyr/FF++_crop/real/troublesome/’: File exists\n"
     ]
    },
    {
     "name": "stdout",
     "output_type": "stream",
     "text": [
      "Fri Jun  9 14:18:33 2023 : /home/kyr/FF++/real/c23/videos/989.mp4             "
     ]
    }
   ],
   "source": [
    "realDir = rootDir + 'FF++/real/c23/videos/'\n",
    "dataDir = realDir\n",
    "maskDir = dataDirs[0].replace('c23', 'masks') # Real videos can share the same masks with Deepfakes\n",
    "saveDir = realDir.replace('FF++', 'FF++_crop').replace('/c23/videos', '')\n",
    "vidDirs = ls(dataDir)\n",
    "savedList = ls(saveDir)\n",
    "maskVidDirs = ls(maskDir)\n",
    "for vidDir, maskVidDir in zip(vidDirs, maskVidDirs):\n",
    "    if vidDir in savedList:\n",
    "        saved = cv2.VideoCapture(saveDir + vidDir)\n",
    "        saved_frame_count = int(saved.get(cv2.CAP_PROP_FRAME_COUNT))\n",
    "        saved.release()\n",
    "        original = cv2.VideoCapture(dataDir + vidDir)\n",
    "        original_frame_count = int(original.get(cv2.CAP_PROP_FRAME_COUNT))\n",
    "        original.release()\n",
    "        if saved_frame_count == original_frame_count:\n",
    "            continue\n",
    "    print('\\r' + time.ctime(time.time()), ':', dataDir + vidDir + '             ', end='')\n",
    "    try:\n",
    "        extract(\n",
    "            maskDir + maskVidDir,\n",
    "            dataDir + vidDir,\n",
    "            saveDir + vidDir,\n",
    "            paddings[0],\n",
    "            center_tweaks[0],\n",
    "            smooth_levels[0]\n",
    "        )\n",
    "        detect(detector, saveDir + vidDir)\n",
    "    except:\n",
    "        print(\"\\n>>>>>>>>>> ERROR OCCURED <<<<<<<<<<\")"
   ]
  }
 ],
 "metadata": {
  "kernelspec": {
   "display_name": "Python 3 (ipykernel)",
   "language": "python",
   "name": "python3"
  },
  "language_info": {
   "codemirror_mode": {
    "name": "ipython",
    "version": 3
   },
   "file_extension": ".py",
   "mimetype": "text/x-python",
   "name": "python",
   "nbconvert_exporter": "python",
   "pygments_lexer": "ipython3",
   "version": "3.7.16"
  }
 },
 "nbformat": 4,
 "nbformat_minor": 5
}
