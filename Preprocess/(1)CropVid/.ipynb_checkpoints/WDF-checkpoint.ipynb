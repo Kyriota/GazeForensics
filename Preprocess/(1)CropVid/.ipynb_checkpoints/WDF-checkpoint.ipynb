{
 "cells": [
  {
   "cell_type": "code",
   "execution_count": 23,
   "id": "00f76215",
   "metadata": {},
   "outputs": [],
   "source": [
    "import sys\n",
    "\n",
    "if '../../Utils/' not in sys.path:\n",
    "    sys.path.append('../../Utils/')\n",
    "from FileOperation import *\n",
    "\n",
    "if '../../' not in sys.path:\n",
    "    sys.path.append('../../')\n",
    "from Config import rootDir\n",
    "\n",
    "import numpy as np\n",
    "from PIL import Image\n",
    "import time\n",
    "import cv2\n",
    "import matplotlib.pyplot as plt\n",
    "from collections import Counter\n",
    "from batch_face import RetinaFace\n",
    "import statistics\n",
    "import math"
   ]
  },
  {
   "cell_type": "code",
   "execution_count": 22,
   "id": "367bcb21",
   "metadata": {},
   "outputs": [
    {
     "name": "stderr",
     "output_type": "stream",
     "text": [
      "mkdir: cannot create directory ‘/home/kyr/temp/’: File exists\n"
     ]
    },
    {
     "name": "stdout",
     "output_type": "stream",
     "text": [
      "/home/kyr/WDF_crop/real_train/99_96.mp4                  "
     ]
    }
   ],
   "source": [
    "dataDirs = [rootDir + 'WDF/' + i + '/' for i in ls(rootDir + 'WDF/')]\n",
    "tempPath = rootDir + 'temp/'\n",
    "output_path = rootDir + 'WDF_crop/'\n",
    "for dataDir in dataDirs:\n",
    "    tarDirs = [dataDir + i for i in ls(dataDir)]\n",
    "    savedFiles = [i[:-4] for i in ls(output_path + dataDir.split('/')[-2])]\n",
    "    for tarDir in tarDirs:\n",
    "        mkdir(tempPath)\n",
    "        uncompress_tar(tarDir, dst_path=tempPath)\n",
    "        innerPath = tempPath + tarDir.split('/')[-1][:-7] + '/' + dataDir.split('/')[-2].split('_')[0] + '/'\n",
    "        vidDirs = ls(innerPath)\n",
    "        for vidDir in vidDirs:\n",
    "            existOutFiles = [i[:-4] for i in ls(output_path + dataDir.split('/')[-2])]\n",
    "            outFileName = tarDir.split('/')[-1][:-7] + '_' + vidDir\n",
    "            if outFileName in savedFiles:\n",
    "                continue\n",
    "            fourcc = cv2.VideoWriter_fourcc(*'mp4v')\n",
    "            outFilePath = output_path + dataDir.split('/')[-2] + '/' + outFileName + '.mp4'\n",
    "            print('\\r' + outFilePath + '               ', end='')\n",
    "            out = cv2.VideoWriter(outFilePath, fourcc, 30.0, (224, 224))\n",
    "            frames = ls(innerPath + vidDir)\n",
    "            frames.sort(key=lambda x: int(x[:-4]))\n",
    "            for frame in frames:\n",
    "                img = cv2.imread(innerPath + vidDir + '/' + frame)\n",
    "                out.write(img)\n",
    "            out.release()\n",
    "        rm(tempPath, r=True)"
   ]
  },
  {
   "cell_type": "code",
   "execution_count": 32,
   "id": "ed501fe1",
   "metadata": {},
   "outputs": [],
   "source": [
    "def calculate_mean_frame_count(video_paths):\n",
    "    frame_counts = []\n",
    "\n",
    "    for path in video_paths:\n",
    "        cap = cv2.VideoCapture(path)\n",
    "        frame_count = int(cap.get(cv2.CAP_PROP_FRAME_COUNT))\n",
    "        frame_counts.append(frame_count)\n",
    "        cap.release()\n",
    "\n",
    "    mean_frame_count = statistics.mean(frame_counts)\n",
    "    median_frame_count = statistics.median(frame_counts)\n",
    "    max_frame_count = max(frame_counts)\n",
    "    min_frame_count = min(frame_counts)\n",
    "\n",
    "    return mean_frame_count, median_frame_count, max_frame_count, min_frame_count, frame_counts\n",
    "\n",
    "def get_frame_ranges(frame_counts, bar_width):\n",
    "    frame_ranges = []\n",
    "    for frame_count in frame_counts:\n",
    "        frame_range = (frame_count // bar_width) * bar_width\n",
    "        frame_ranges.append(frame_range)\n",
    "    return frame_ranges"
   ]
  },
  {
   "cell_type": "code",
   "execution_count": 33,
   "id": "ba810d17",
   "metadata": {},
   "outputs": [
    {
     "name": "stdout",
     "output_type": "stream",
     "text": [
      "Mean frame count: 161.3479628110473\n",
      "Median frame count: 105.0\n",
      "Maximum frame count: 29008\n",
      "Minimum frame count: 51\n"
     ]
    },
    {
     "data": {
      "image/png": "[encoded data removed]",
      "text/plain": [
       "<Figure size 640x480 with 1 Axes>"
      ]
     },
     "metadata": {},
     "output_type": "display_data"
    }
   ],
   "source": [
    "# Find length distribution of data\n",
    "video_paths = []\n",
    "for i in ls(rootDir + 'WDF_crop/'):\n",
    "    for j in ls(rootDir + 'WDF_crop/' + i):\n",
    "        video_paths.append(rootDir + 'WDF_crop/' + i + '/' + j)\n",
    "mean_frames, median_frames, max_frames, min_frames, frame_counts = calculate_mean_frame_count(video_paths)\n",
    "print(f\"Mean frame count: {mean_frames}\")\n",
    "print(f\"Median frame count: {median_frames}\")\n",
    "print(f\"Maximum frame count: {max_frames}\")\n",
    "print(f\"Minimum frame count: {min_frames}\")\n",
    "\n",
    "# Define the bar width for frame ranges\n",
    "bar_width = 50\n",
    "\n",
    "# Get the frame ranges for each video\n",
    "frame_ranges = get_frame_ranges(frame_counts, bar_width)\n",
    "\n",
    "# Count the number of videos in each frame range\n",
    "frame_ranges_counter = Counter(frame_ranges)\n",
    "\n",
    "# Prepare the data for plotting\n",
    "x_values = list(frame_ranges_counter.keys())\n",
    "y_values = list(frame_ranges_counter.values())\n",
    "\n",
    "# Plotting the bar chart\n",
    "plt.bar(x_values, y_values, width=bar_width)\n",
    "plt.xlabel('Frame Count Range')\n",
    "plt.ylabel('Number of Videos')\n",
    "plt.title('Number of Videos in Frame Count Ranges')\n",
    "plt.show()"
   ]
  }
 ],
 "metadata": {
  "kernelspec": {
   "display_name": "Python 3 (ipykernel)",
   "language": "python",
   "name": "python3"
  },
  "language_info": {
   "codemirror_mode": {
    "name": "ipython",
    "version": 3
   },
   "file_extension": ".py",
   "mimetype": "text/x-python",
   "name": "python",
   "nbconvert_exporter": "python",
   "pygments_lexer": "ipython3",
   "version": "3.7.16"
  }
 },
 "nbformat": 4,
 "nbformat_minor": 5
}
