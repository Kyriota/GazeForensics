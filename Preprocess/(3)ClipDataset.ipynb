{
 "cells": [
  {
   "cell_type": "code",
   "execution_count": 1,
   "id": "07bd1928",
   "metadata": {},
   "outputs": [],
   "source": [
    "import sys\n",
    "if '../' not in sys.path:\n",
    "    sys.path.append('../')\n",
    "from Preprocess.DatasetClipping import ClipTestDataset\n",
    "from Config import rootDir"
   ]
  },
  {
   "cell_type": "code",
   "execution_count": 2,
   "id": "0926e49a-2614-47af-a262-8d3c450e8b15",
   "metadata": {
    "tags": []
   },
   "outputs": [
    {
     "name": "stdout",
     "output_type": "stream",
     "text": [
      ">>> Processing fake_test\n",
      "Processing /home/kyr/GazeForensicsData/cropped_videos/CDF_crop/Celeb-synthesis/id17_id2_0003.mp4 \t 340 \t/\t 340                 \n",
      "\n",
      ">>> Processing real_test\n",
      "Processing /home/kyr/GazeForensicsData/cropped_videos/CDF_crop/Celeb-real/id42_0002.mp4 \t 178 \t/\t 178                \n",
      "\n"
     ]
    }
   ],
   "source": [
    "ClipTestDataset(rootDir + 'clip_info/CDF_vid_category_dict.json', rootDir + 'clipped_videos/CDF_clip/')"
   ]
  },
  {
   "cell_type": "code",
   "execution_count": null,
   "id": "0357c460",
   "metadata": {},
   "outputs": [],
   "source": [
    "ClipTestDataset(rootDir + 'clip_info/WDF_vid_category_dict.json', rootDir + 'clipped_videos/WDF_clip/')"
   ]
  },
  {
   "cell_type": "code",
   "execution_count": null,
   "id": "53178f11-a900-4413-bc2e-47dc3111983e",
   "metadata": {},
   "outputs": [],
   "source": [
    "ClipTestDataset(rootDir + 'clip_info/FF++_c23_vid_category_dict.json', rootDir + 'clipped_videos/FF++_c23_clip/')"
   ]
  },
  {
   "cell_type": "code",
   "execution_count": 3,
   "id": "b8259582-0b74-4940-9f2e-5f68121a6545",
   "metadata": {
    "tags": []
   },
   "outputs": [
    {
     "name": "stdout",
     "output_type": "stream",
     "text": [
      ">>> Processing fake_test\n",
      "Processing /home/kyr/GazeForensicsData/cropped_videos/FF++_crop/c40/fake/NeuralTextures/995_233.mp4 \t 560 \t/\t 560                \n",
      "\n",
      ">>> Processing real_test\n",
      "Processing /home/kyr/GazeForensicsData/cropped_videos/FF++_crop/c40/real/995.mp4 \t 140 \t/\t 140                \n",
      "\n"
     ]
    }
   ],
   "source": [
    "ClipTestDataset(rootDir + 'clip_info/FF++_c40_vid_category_dict.json', rootDir + 'clipped_videos/FF++_c40_clip/')"
   ]
  },
  {
   "cell_type": "code",
   "execution_count": 2,
   "id": "f092b9be-8402-4253-b523-8c9a94be3f02",
   "metadata": {
    "tags": []
   },
   "outputs": [
    {
     "name": "stdout",
     "output_type": "stream",
     "text": [
      ">>> Processing fake_test\n",
      "Processing /home/kyr/GazeForensicsData/cropped_videos/FF++_crop/c23/fake/Deepfakes/995_233.mp4 \t 140 \t/\t 140                \n",
      "\n",
      ">>> Processing real_test\n",
      "Processing /home/kyr/GazeForensicsData/cropped_videos/FF++_crop/c23/real/995.mp4 \t 140 \t/\t 140                \n",
      "\n",
      ">>> Processing fake_test\n",
      "Processing /home/kyr/GazeForensicsData/cropped_videos/FF++_crop/c23/fake/Face2Face/995_233.mp4 \t 140 \t/\t 140                \n",
      "\n",
      ">>> Processing real_test\n",
      "Processing /home/kyr/GazeForensicsData/cropped_videos/FF++_crop/c23/real/995.mp4 \t 140 \t/\t 140                \n",
      "\n",
      ">>> Processing fake_test\n",
      "Processing /home/kyr/GazeForensicsData/cropped_videos/FF++_crop/c23/fake/FaceSwap/995_233.mp4 \t 140 \t/\t 140                \n",
      "\n",
      ">>> Processing real_test\n",
      "Processing /home/kyr/GazeForensicsData/cropped_videos/FF++_crop/c23/real/995.mp4 \t 140 \t/\t 140                \n",
      "\n",
      ">>> Processing fake_test\n",
      "Processing /home/kyr/GazeForensicsData/cropped_videos/FF++_crop/c23/fake/NeuralTextures/995_233.mp4 \t 140 \t/\t 140                \n",
      "\n",
      ">>> Processing real_test\n",
      "Processing /home/kyr/GazeForensicsData/cropped_videos/FF++_crop/c23/real/995.mp4 \t 140 \t/\t 140                \n",
      "\n",
      ">>> Processing fake_test\n",
      "Processing /home/kyr/GazeForensicsData/cropped_videos/FF++_crop/c40/fake/Deepfakes/995_233.mp4 \t 140 \t/\t 140                \n",
      "\n",
      ">>> Processing real_test\n",
      "Processing /home/kyr/GazeForensicsData/cropped_videos/FF++_crop/c40/real/995.mp4 \t 140 \t/\t 140                \n",
      "\n",
      ">>> Processing fake_test\n",
      "Processing /home/kyr/GazeForensicsData/cropped_videos/FF++_crop/c40/fake/Face2Face/995_233.mp4 \t 140 \t/\t 140                \n",
      "\n",
      ">>> Processing real_test\n",
      "Processing /home/kyr/GazeForensicsData/cropped_videos/FF++_crop/c40/real/995.mp4 \t 140 \t/\t 140                \n",
      "\n",
      ">>> Processing fake_test\n",
      "Processing /home/kyr/GazeForensicsData/cropped_videos/FF++_crop/c40/fake/FaceSwap/995_233.mp4 \t 140 \t/\t 140                \n",
      "\n",
      ">>> Processing real_test\n",
      "Processing /home/kyr/GazeForensicsData/cropped_videos/FF++_crop/c40/real/995.mp4 \t 140 \t/\t 140                \n",
      "\n",
      ">>> Processing fake_test\n",
      "Processing /home/kyr/GazeForensicsData/cropped_videos/FF++_crop/c40/fake/NeuralTextures/995_233.mp4 \t 140 \t/\t 140                \n",
      "\n",
      ">>> Processing real_test\n",
      "Processing /home/kyr/GazeForensicsData/cropped_videos/FF++_crop/c40/real/995.mp4 \t 140 \t/\t 140                \n",
      "\n"
     ]
    }
   ],
   "source": [
    "for quality in ['c23', 'c40']:\n",
    "    for manip_type in ['Deepfakes', 'Face2Face', 'FaceSwap', 'NeuralTextures']:\n",
    "        ClipTestDataset(rootDir + 'clip_info/FF++_' + quality + '_' + manip_type + '_vid_category_dict.json', rootDir + 'clipped_videos/FF++_' + quality + '_' + manip_type + '_clip/')"
   ]
  }
 ],
 "metadata": {
  "kernelspec": {
   "display_name": "Python 3 (ipykernel)",
   "language": "python",
   "name": "python3"
  },
  "language_info": {
   "codemirror_mode": {
    "name": "ipython",
    "version": 3
   },
   "file_extension": ".py",
   "mimetype": "text/x-python",
   "name": "python",
   "nbconvert_exporter": "python",
   "pygments_lexer": "ipython3",
   "version": "3.7.16"
  },
  "widgets": {
   "application/vnd.jupyter.widget-state+json": {
    "state": {},
    "version_major": 2,
    "version_minor": 0
   }
  }
 },
 "nbformat": 4,
 "nbformat_minor": 5
}
