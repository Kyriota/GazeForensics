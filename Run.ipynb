{
 "cells": [
  {
   "cell_type": "code",
   "execution_count": null,
   "id": "df279634-c36c-4d90-96e9-14406798e7f9",
   "metadata": {
    "scrolled": true
   },
   "outputs": [],
   "source": [
    "from Utils.Helper import Run\n",
    "from Config import Config\n",
    "\n",
    "import torch.backends.cudnn as cudnn\n",
    "\n",
    "# cudnn.benchmark = True # This will break reproducibility\n",
    "cudnn.deterministic = True # For reproducibility"
   ]
  },
  {
   "cell_type": "code",
   "execution_count": null,
   "id": "e0af7abd-dee7-4b2b-9521-48c8a7762601",
   "metadata": {
    "scrolled": true,
    "tags": []
   },
   "outputs": [],
   "source": [
    "config = Config()\n",
    "config.basic['tryID'] = 'WDF'\n",
    "# config.auto_set_tryID()\n",
    "config.apply()\n",
    "vid_accs, accs, losses = Run(config)"
   ]
  },
  {
   "cell_type": "code",
   "execution_count": null,
   "id": "32b4f548-13e7-4c92-9ddc-f6f201075fa9",
   "metadata": {
    "scrolled": true,
    "tags": []
   },
   "outputs": [],
   "source": [
    "config = Config()\n",
    "config.basic['train_DS_name'] = 'CDF'\n",
    "config.basic['test_DS_name'] = 'CDF'\n",
    "config.basic['tryID'] = 'CDF'\n",
    "config.prep['util_percent'] = 0.27\n",
    "# config.auto_set_tryID()\n",
    "config.apply()\n",
    "vid_accs, accs, losses = Run(config)"
   ]
  },
  {
   "cell_type": "code",
   "execution_count": null,
   "id": "03fcd238-e3f8-483e-8ea6-e31c8bef2c74",
   "metadata": {
    "scrolled": true,
    "tags": []
   },
   "outputs": [],
   "source": [
    "for quality in ['c23', 'c40']:\n",
    "    for manip_type in ['Deepfakes', 'Face2Face', 'FaceSwap', 'NeuralTextures']:\n",
    "        config = Config()\n",
    "        name = 'FF++_' + quality + '_' + manip_type\n",
    "        config.basic['train_DS_name'] = name\n",
    "        config.basic['test_DS_name'] = name\n",
    "        config.basic['tryID'] = name\n",
    "        config.prep['util_percent'] = 0.0375\n",
    "        config.apply()\n",
    "        vid_accs, accs, losses = Run(config)"
   ]
  },
  {
   "cell_type": "code",
   "execution_count": null,
   "id": "f3881a1c-ccfd-46b1-b40b-279cbb24d2d0",
   "metadata": {
    "scrolled": true,
    "tags": []
   },
   "outputs": [],
   "source": [
    "import json\n",
    "for quality in ['c23', 'c40']:\n",
    "    for manip_type in ['Deepfakes', 'Face2Face', 'FaceSwap', 'NeuralTextures']:\n",
    "        with open('Results/FF++_sub/FF++_' + quality + '_' + manip_type + '_result.json', 'r') as f:\n",
    "            result = json.load(f)\n",
    "        print(quality, manip_type, max(result['test_result']['vid_acc']))\n",
    "    print()"
   ]
  }
 ],
 "metadata": {
  "kernelspec": {
   "display_name": "Python 3 (ipykernel)",
   "language": "python",
   "name": "python3"
  },
  "language_info": {
   "codemirror_mode": {
    "name": "ipython",
    "version": 3
   },
   "file_extension": ".py",
   "mimetype": "text/x-python",
   "name": "python",
   "nbconvert_exporter": "python",
   "pygments_lexer": "ipython3",
   "version": "3.7.16"
  },
  "widgets": {
   "application/vnd.jupyter.widget-state+json": {
    "state": {},
    "version_major": 2,
    "version_minor": 0
   }
  }
 },
 "nbformat": 4,
 "nbformat_minor": 5
}
