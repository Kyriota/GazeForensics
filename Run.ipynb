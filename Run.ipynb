{
 "cells": [
  {
   "cell_type": "code",
   "execution_count": 1,
   "id": "7091ddb6",
   "metadata": {
    "tags": []
   },
   "outputs": [],
   "source": [
    "from Utils.Helper import Run\n",
    "from Config import Config\n",
    "\n",
    "import torch.backends.cudnn as cudnn\n",
    "\n",
    "# cudnn.benchmark = True # This will break reproducibility\n",
    "cudnn.deterministic = True # For reproducibility"
   ]
  }
 ],
 "metadata": {
  "kernelspec": {
   "display_name": "Python 3 (ipykernel)",
   "language": "python",
   "name": "python3"
  },
  "language_info": {
   "codemirror_mode": {
    "name": "ipython",
    "version": 3
   },
   "file_extension": ".py",
   "mimetype": "text/x-python",
   "name": "python",
   "nbconvert_exporter": "python",
   "pygments_lexer": "ipython3",
   "version": "3.7.16"
  },
  "widgets": {
   "application/vnd.jupyter.widget-state+json": {
    "state": {
     "0a68139f6a7142ae852e454d9623c281": {
      "model_module": "@jupyter-widgets/controls",
      "model_module_version": "2.0.0",
      "model_name": "HTMLStyleModel",
      "state": {
       "description_width": "",
       "font_size": null,
       "text_color": null
      }
     },
     "1307f57d4b984ed7a4727090ee1aa102": {
      "model_module": "@jupyter-widgets/base",
      "model_module_version": "2.0.0",
      "model_name": "LayoutModel",
      "state": {}
     },
     "1b75d6c0a99040d4aa6e86698eec33bf": {
      "model_module": "@jupyter-widgets/controls",
      "model_module_version": "2.0.0",
      "model_name": "ProgressStyleModel",
      "state": {
       "bar_color": "yellow",
       "description_width": ""
      }
     },
     "2f22aed830074e11b06d02d83b5c315d": {
      "model_module": "@jupyter-widgets/controls",
      "model_module_version": "2.0.0",
      "model_name": "FloatProgressModel",
      "state": {
       "bar_style": "success",
       "description": "Epoch 1/1",
       "layout": "IPY_MODEL_99ac88cbab854b4799e232f7f2eb738a",
       "style": "IPY_MODEL_47b37355728a47289d178a9f4b958775",
       "value": 100
      }
     },
     "312f091bf2694ab8bd465fa4459e903e": {
      "model_module": "@jupyter-widgets/controls",
      "model_module_version": "2.0.0",
      "model_name": "HTMLStyleModel",
      "state": {
       "description_width": "",
       "font_size": null,
       "text_color": null
      }
     },
     "47b37355728a47289d178a9f4b958775": {
      "model_module": "@jupyter-widgets/controls",
      "model_module_version": "2.0.0",
      "model_name": "ProgressStyleModel",
      "state": {
       "bar_color": "green",
       "description_width": ""
      }
     },
     "5d87b125ec8248c9aeef63c1a2d9a327": {
      "model_module": "@jupyter-widgets/controls",
      "model_module_version": "2.0.0",
      "model_name": "VBoxModel",
      "state": {
       "children": [
        "IPY_MODEL_2f22aed830074e11b06d02d83b5c315d",
        "IPY_MODEL_fbcb066a6363406dae4343ecebc16a99"
       ],
       "layout": "IPY_MODEL_63a5b5c3267a4f7884f5c0bff4538d39"
      }
     },
     "63a5b5c3267a4f7884f5c0bff4538d39": {
      "model_module": "@jupyter-widgets/base",
      "model_module_version": "2.0.0",
      "model_name": "LayoutModel",
      "state": {}
     },
     "96fab90c94e34ebb8b198342c08dfa1e": {
      "model_module": "@jupyter-widgets/base",
      "model_module_version": "2.0.0",
      "model_name": "LayoutModel",
      "state": {}
     },
     "9909f2b1e9d042d2bad43ff0d8688fbb": {
      "model_module": "@jupyter-widgets/controls",
      "model_module_version": "2.0.0",
      "model_name": "VBoxModel",
      "state": {
       "children": [
        "IPY_MODEL_f2e4be9a009b41d38e97825d70dc053f",
        "IPY_MODEL_ba22d7447c1e48caa6a52be681da7396"
       ],
       "layout": "IPY_MODEL_96fab90c94e34ebb8b198342c08dfa1e"
      }
     },
     "99ac88cbab854b4799e232f7f2eb738a": {
      "model_module": "@jupyter-widgets/base",
      "model_module_version": "2.0.0",
      "model_name": "LayoutModel",
      "state": {}
     },
     "b349606af8534fd0a5088a9ba97245f4": {
      "model_module": "@jupyter-widgets/base",
      "model_module_version": "2.0.0",
      "model_name": "LayoutModel",
      "state": {}
     },
     "ba22d7447c1e48caa6a52be681da7396": {
      "model_module": "@jupyter-widgets/controls",
      "model_module_version": "2.0.0",
      "model_name": "HTMLModel",
      "state": {
       "layout": "IPY_MODEL_1307f57d4b984ed7a4727090ee1aa102",
       "style": "IPY_MODEL_0a68139f6a7142ae852e454d9623c281",
       "value": "- Mean Out Loss: 0.9806<br>- Mean Acc: 0.4010"
      }
     },
     "c9e89cbf04084b4b80d81c41871e3d4f": {
      "model_module": "@jupyter-widgets/base",
      "model_module_version": "2.0.0",
      "model_name": "LayoutModel",
      "state": {}
     },
     "f2e4be9a009b41d38e97825d70dc053f": {
      "model_module": "@jupyter-widgets/controls",
      "model_module_version": "2.0.0",
      "model_name": "FloatProgressModel",
      "state": {
       "bar_style": "success",
       "description": "Evaluating",
       "layout": "IPY_MODEL_c9e89cbf04084b4b80d81c41871e3d4f",
       "style": "IPY_MODEL_1b75d6c0a99040d4aa6e86698eec33bf",
       "value": 100
      }
     },
     "fbcb066a6363406dae4343ecebc16a99": {
      "model_module": "@jupyter-widgets/controls",
      "model_module_version": "2.0.0",
      "model_name": "HTMLModel",
      "state": {
       "layout": "IPY_MODEL_b349606af8534fd0a5088a9ba97245f4",
       "style": "IPY_MODEL_312f091bf2694ab8bd465fa4459e903e",
       "value": "- Mean Out Loss: 0.9092<br>- Mean Acc: 0.5135"
      }
     }
    },
    "version_major": 2,
    "version_minor": 0
   }
  }
 },
 "nbformat": 4,
 "nbformat_minor": 5
}
